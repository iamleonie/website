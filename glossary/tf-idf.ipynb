{
 "cells": [
  {
   "cell_type": "markdown",
   "id": "e20ed84c",
   "metadata": {},
   "source": [
    "---\n",
    "title: \"TF-IDF\"\n",
    "description: \"Post description\"\n",
    "date: \"2025-02-09\"\n",
    "date-modified: \"2025-02-22\"\n",
    "slug: test\n",
    "categories: [news]\n",
    "bread-crumbs: true\n",
    "back-to-top-navigation: true\n",
    "toc: true\n",
    "toc-depth: 3\n",
    "---\n",
    "\n",
    "# TF-IDF"
   ]
  },
  {
   "cell_type": "markdown",
   "id": "06a88f32",
   "metadata": {},
   "source": [
    "## What is TF-IDF?\n",
    "Term Frequency-Inverse Document Frequency (TF-IDF) \n",
    "\n",
    "\n",
    "It combines two metrics:\n",
    "- Term Freuqncy (TF)\n",
    "- Inverse Document Frequency (IDF)\n",
    "\n",
    "\n",
    "It was introduced in 1972 by Karen Spärck Jones by paper"
   ]
  },
  {
   "cell_type": "markdown",
   "id": "1ea2dba5",
   "metadata": {
    "vscode": {
     "languageId": "plaintext"
    }
   },
   "source": [
    "### Term Frequency\n",
    "The term frequency $tf(d, t)$ counts how many times each term $t$ appears in each document $d$.\n",
    "\n",
    "$$ tf(t,d) = $$\n",
    "\n",
    "### Inverse Document Frequency\n",
    "\n",
    "$$ tf(t,d) = $$\n"
   ]
  },
  {
   "cell_type": "markdown",
   "id": "d23f1a34",
   "metadata": {},
   "source": [
    "## TF-IDF from scratch in Python"
   ]
  },
  {
   "cell_type": "code",
   "execution_count": 6,
   "id": "db24a0f1",
   "metadata": {},
   "outputs": [
    {
     "data": {
      "text/plain": [
       "['This', 'is', 'a', 'first', 'sentence']"
      ]
     },
     "execution_count": 6,
     "metadata": {},
     "output_type": "execute_result"
    }
   ],
   "source": [
    "documents = [\n",
    "    \"This is a first sentence\",\n",
    "    \"This is a second sentence\",\n",
    "    \"And this is a third sentence\",\n",
    "]\n",
    "\n",
    "# Process documents into individual words\n",
    "documents[0].split(\" \")\n"
   ]
  },
  {
   "cell_type": "code",
   "execution_count": 7,
   "id": "ba6a4326",
   "metadata": {},
   "outputs": [
    {
     "data": {
      "text/plain": [
       "'def tf(doc_dict: dict, doc_elements: list[str]) -> dict:\\n    \"\"\\n    #Term frequency of a word in a document over total words in document\\n    \"\"\\n    tf_dict = {}\\n    corpus_count = len(doc_elements)\\n    \\n    for word, count in doc_dict.items():\\n        tf_dict[word] = count / float(corpus_count)\\n    \\n    return tf_dict'"
      ]
     },
     "execution_count": 7,
     "metadata": {},
     "output_type": "execute_result"
    }
   ],
   "source": [
    "\"\"\"def tf(doc_dict: dict, doc_elements: list[str]) -> dict:\n",
    "    \"\"\n",
    "    #Term frequency of a word in a document over total words in document\n",
    "    \"\"\n",
    "    tf_dict = {}\n",
    "    corpus_count = len(doc_elements)\n",
    "    \n",
    "    for word, count in doc_dict.items():\n",
    "        tf_dict[word] = count / float(corpus_count)\n",
    "    \n",
    "    return tf_dict\"\"\""
   ]
  },
  {
   "cell_type": "markdown",
   "id": "1ef41c1d",
   "metadata": {},
   "source": [
    "## TF-IDF in `scikit-learn`\n"
   ]
  },
  {
   "cell_type": "code",
   "execution_count": null,
   "id": "2da783e0",
   "metadata": {},
   "outputs": [
    {
     "ename": "NameError",
     "evalue": "name 'pairwise_distances' is not defined",
     "output_type": "error",
     "traceback": [
      "\u001b[0;31m---------------------------------------------------------------------------\u001b[0m",
      "\u001b[0;31mNameError\u001b[0m                                 Traceback (most recent call last)",
      "\u001b[0;32m<ipython-input-9-bf8b5855c59f>\u001b[0m in \u001b[0;36m<module>\u001b[0;34m\u001b[0m\n\u001b[1;32m     10\u001b[0m \u001b[0;34m\u001b[0m\u001b[0m\n\u001b[1;32m     11\u001b[0m \u001b[0;34m\u001b[0m\u001b[0m\n\u001b[0;32m---> 12\u001b[0;31m \u001b[0mpairwise_distances\u001b[0m\u001b[0;34m(\u001b[0m\u001b[0mtfidf_matrix\u001b[0m\u001b[0;34m[\u001b[0m\u001b[0;36m0\u001b[0m\u001b[0;34m,\u001b[0m \u001b[0;34m:\u001b[0m\u001b[0;34m]\u001b[0m\u001b[0;34m,\u001b[0m \u001b[0mtfidf_matrix\u001b[0m\u001b[0;34m,\u001b[0m \u001b[0mmetric\u001b[0m\u001b[0;34m=\u001b[0m\u001b[0;34m\"cosine\"\u001b[0m\u001b[0;34m)\u001b[0m\u001b[0;34m\u001b[0m\u001b[0;34m\u001b[0m\u001b[0m\n\u001b[0m",
      "\u001b[0;31mNameError\u001b[0m: name 'pairwise_distances' is not defined"
     ]
    }
   ],
   "source": [
    "# !pip install -U scikit-learn\n",
    "from sklearn.feature_extraction.text import TfidfVectorizer\n",
    "\n",
    "# The options ensure that the numbers match our example above.\n",
    "vec = TfidfVectorizer(smooth_idf=False, norm=None)\n",
    "\n",
    "vec.fit(documents)\n",
    "\n",
    "tfidf_matrix = vec.transform(documents)\n",
    "\n"
   ]
  },
  {
   "cell_type": "code",
   "execution_count": 10,
   "id": "bb02c317",
   "metadata": {},
   "outputs": [
    {
     "name": "stderr",
     "output_type": "stream",
     "text": [
      "/Library/Frameworks/Python.framework/Versions/3.7/lib/python3.7/site-packages/sklearn/metrics/pairwise.py:56: DeprecationWarning: `np.float` is a deprecated alias for the builtin `float`. To silence this warning, use `float` by itself. Doing this will not modify any behavior and is safe. If you specifically wanted the numpy scalar type, use `np.float64` here.\n",
      "Deprecated in NumPy 1.20; for more details and guidance: https://numpy.org/devdocs/release/1.20.0-notes.html#deprecations\n",
      "  dtype = np.float\n",
      "/Library/Frameworks/Python.framework/Versions/3.7/lib/python3.7/site-packages/sklearn/metrics/pairwise.py:56: DeprecationWarning: `np.float` is a deprecated alias for the builtin `float`. To silence this warning, use `float` by itself. Doing this will not modify any behavior and is safe. If you specifically wanted the numpy scalar type, use `np.float64` here.\n",
      "Deprecated in NumPy 1.20; for more details and guidance: https://numpy.org/devdocs/release/1.20.0-notes.html#deprecations\n",
      "  dtype = np.float\n"
     ]
    },
    {
     "data": {
      "text/plain": [
       "array([[0.        , 0.59482311, 0.67916008]])"
      ]
     },
     "execution_count": 10,
     "metadata": {},
     "output_type": "execute_result"
    }
   ],
   "source": [
    "from sklearn.metrics import pairwise_distances\n",
    "pairwise_distances(tfidf_matrix[0, :], tfidf_matrix, metric=\"cosine\")"
   ]
  },
  {
   "cell_type": "markdown",
   "id": "a5736fda",
   "metadata": {},
   "source": [
    "\n",
    "\n",
    "## What is an example of TF-IDF?\n",
    "\n",
    "## What is TF-IDF used for?\n",
    "\n",
    "TF-IDF is used in BM25\n",
    "\n",
    "## Why do we use TF-IDF?\n",
    "\n",
    "## What are the advantages of TF-IDF?\n",
    "TF-IDF was developed to address the limitations of one-hot encoding\n",
    "\n",
    "## What are the disadvantages of TF-IDF?\n",
    "The created vectors are sparse\n",
    "\n",
    " time-complexity of computing the TF-IDF weights for all the terms in all the documents is O(Nd), where N is the total number of terms in the corpus and d is the number of documents in the corpus. (verbatim)\n",
    "\n",
    " This linear time complexity growth becomes an issue when we’re trying to process millions or hundreds of millions of tokens \n",
    "\n",
    "## What are alternatives to TF-IDF?"
   ]
  }
 ],
 "metadata": {
  "kernelspec": {
   "display_name": "Python 3",
   "language": "python",
   "name": "python3"
  },
  "language_info": {
   "codemirror_mode": {
    "name": "ipython",
    "version": 3
   },
   "file_extension": ".py",
   "mimetype": "text/x-python",
   "name": "python",
   "nbconvert_exporter": "python",
   "pygments_lexer": "ipython3",
   "version": "3.7.2"
  }
 },
 "nbformat": 4,
 "nbformat_minor": 5
}
