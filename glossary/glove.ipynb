{
 "cells": [
  {
   "cell_type": "markdown",
   "id": "e20ed84c",
   "metadata": {},
   "source": [
    "---\n",
    "title: \"GloVE\"\n",
    "description: \"Post description\"\n",
    "date: \"2025-02-09\"\n",
    "date-modified: \"2025-02-22\"\n",
    "bread-crumbs: true\n",
    "back-to-top-navigation: true\n",
    "toc: true\n",
    "toc-depth: 3\n",
    "---"
   ]
  },
  {
   "cell_type": "code",
   "id": "udktqb5u8wc",
   "source": "print(\"hi\")",
   "metadata": {},
   "outputs": []
  },
  {
   "cell_type": "code",
   "id": "uvps2m2rogh",
   "source": "print(\"hello world\")",
   "metadata": {},
   "outputs": []
  }
 ],
 "metadata": {
  "kernelspec": {
   "display_name": "Python 3",
   "language": "python",
   "name": "python3"
  },
  "language_info": {
   "codemirror_mode": {
    "name": "ipython",
    "version": 3
   },
   "file_extension": ".py",
   "mimetype": "text/x-python",
   "name": "python",
   "nbconvert_exporter": "python",
   "pygments_lexer": "ipython3",
   "version": "3.7.2"
  }
 },
 "nbformat": 4,
 "nbformat_minor": 5
}