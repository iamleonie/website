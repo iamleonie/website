{
 "cells": [
  {
   "cell_type": "markdown",
   "metadata": {
    "id": "yGC3oshodPmd"
   },
   "source": [
    "---\n",
    "title: \"Transformer Validation Pipeline\"\n",
    "description: \"Complete validation pipeline for transformer models using PyTorch's nn.Transformer\"\n",
    "date: \"2025-08-01\"\n",
    "bread-crumbs: true\n",
    "back-to-top-navigation: true\n",
    "toc: true\n",
    "toc-depth: 3\n",
    "---\n",
    "\n",
    "This section implements a complete English-French translator using PyTorch's built-in `nn.Transformer` class."
   ]
  },
  {
   "cell_type": "markdown",
   "metadata": {
    "id": "KmJ1-XcgdPmf"
   },
   "source": [
    "## Setup and Imports\n",
    "\n",
    "First, let's set up our environment. \n",
    "We're using PyTorch's built-in transformer (no need to reinvent the wheel), plus some essential libraries for data handling and visualization.\n",
    "\n",
    "We set random seeds for reproducibility."
   ]
  },
  {
   "cell_type": "code",
   "execution_count": 12,
   "metadata": {
    "colab": {
     "base_uri": "https://localhost:8080/"
    },
    "id": "X0POmFykdPmg",
    "outputId": "0697c8d3-b61a-4555-b15d-9172bb5918bd"
   },
   "outputs": [
    {
     "name": "stdout",
     "output_type": "stream",
     "text": [
      "PyTorch version: 1.13.1\n",
      "CUDA available: False\n",
      "Using device: cpu\n"
     ]
    }
   ],
   "source": [
    "import torch\n",
    "import torch.nn as nn\n",
    "import torch.optim as optim\n",
    "import torch.nn.functional as F\n",
    "from torch.utils.data import Dataset, DataLoader\n",
    "from torch.nn.utils.rnn import pad_sequence\n",
    "\n",
    "import math\n",
    "import random\n",
    "import numpy as np\n",
    "from collections import Counter\n",
    "from typing import List, Tuple, Dict\n",
    "import matplotlib.pyplot as plt\n",
    "\n",
    "# Set random seeds for reproducibility\n",
    "torch.manual_seed(42)\n",
    "random.seed(42)\n",
    "np.random.seed(42)\n",
    "\n",
    "print(f\"PyTorch version: {torch.__version__}\")\n",
    "print(f\"CUDA available: {torch.cuda.is_available()}\")\n",
    "device = torch.device(\"cuda\" if torch.cuda.is_available() else \"cpu\")\n",
    "print(f\"Using device: {device}\")"
   ]
  },
  {
   "cell_type": "markdown",
   "metadata": {
    "id": "5j-3vvdmdPmh"
   },
   "source": [
    "## Preparing Dataset\n",
    "\n",
    "Always start with your data. \n",
    "Let's load our English-French translation pairs and understand what we're working with."
   ]
  },
  {
   "cell_type": "code",
   "execution_count": null,
   "metadata": {
    "colab": {
     "base_uri": "https://localhost:8080/"
    },
    "id": "PIvUAAY7CN2z",
    "outputId": "775ffe4c-f930-43f5-e803-86172688d652"
   },
   "outputs": [
    {
     "name": "stdout",
     "output_type": "stream",
     "text": [
      "Loading data from local file: english_french_translations.csv\n",
      "Loaded 1000 translation pairs from CSV file\n"
     ]
    },
    {
     "data": {
      "text/html": [
       "<div>\n",
       "<style scoped>\n",
       "    .dataframe tbody tr th:only-of-type {\n",
       "        vertical-align: middle;\n",
       "    }\n",
       "\n",
       "    .dataframe tbody tr th {\n",
       "        vertical-align: top;\n",
       "    }\n",
       "\n",
       "    .dataframe thead th {\n",
       "        text-align: right;\n",
       "    }\n",
       "</style>\n",
       "<table border=\"1\" class=\"dataframe\">\n",
       "  <thead>\n",
       "    <tr style=\"text-align: right;\">\n",
       "      <th></th>\n",
       "      <th>English words/sentences</th>\n",
       "      <th>French words/sentences</th>\n",
       "    </tr>\n",
       "  </thead>\n",
       "  <tbody>\n",
       "    <tr>\n",
       "      <th>0</th>\n",
       "      <td>Take a seat.</td>\n",
       "      <td>Prends place !</td>\n",
       "    </tr>\n",
       "    <tr>\n",
       "      <th>1</th>\n",
       "      <td>I wish Tom was here.</td>\n",
       "      <td>J'aimerais que Tom soit là.</td>\n",
       "    </tr>\n",
       "    <tr>\n",
       "      <th>2</th>\n",
       "      <td>How did the audition go?</td>\n",
       "      <td>Comment s'est passée l'audition ?</td>\n",
       "    </tr>\n",
       "    <tr>\n",
       "      <th>3</th>\n",
       "      <td>I've no friend to talk to about my problems.</td>\n",
       "      <td>Je n'ai pas d'ami avec lequel je puisse m'entr...</td>\n",
       "    </tr>\n",
       "    <tr>\n",
       "      <th>4</th>\n",
       "      <td>I really like this skirt. Can I try it on?</td>\n",
       "      <td>J'aime beaucoup cette jupe, puis-je l'essayer ?</td>\n",
       "    </tr>\n",
       "  </tbody>\n",
       "</table>\n",
       "</div>"
      ],
      "text/plain": [
       "                        English words/sentences  \\\n",
       "0                                  Take a seat.   \n",
       "1                          I wish Tom was here.   \n",
       "2                      How did the audition go?   \n",
       "3  I've no friend to talk to about my problems.   \n",
       "4    I really like this skirt. Can I try it on?   \n",
       "\n",
       "                              French words/sentences  \n",
       "0                                     Prends place !  \n",
       "1                        J'aimerais que Tom soit là.  \n",
       "2                  Comment s'est passée l'audition ?  \n",
       "3  Je n'ai pas d'ami avec lequel je puisse m'entr...  \n",
       "4    J'aime beaucoup cette jupe, puis-je l'essayer ?  "
      ]
     },
     "metadata": {},
     "output_type": "display_data"
    }
   ],
   "source": [
    "# Download data\n",
    "import os\n",
    "import pandas as pd\n",
    "\n",
    "# Set environment flag - change this to True when running in Colab\n",
    "COLAB = False\n",
    "\n",
    "if COLAB:\n",
    "    # Original Colab code using Kaggle Hub\n",
    "    import kagglehub\n",
    "    from kagglehub import KaggleDatasetAdapter\n",
    "\n",
    "    # Set the path to the file you'd like to load\n",
    "    file_path = \"eng_-french.csv\"\n",
    "\n",
    "    # Load the latest version\n",
    "    df = kagglehub.load_dataset(\n",
    "      KaggleDatasetAdapter.PANDAS,\n",
    "      \"devicharith/language-translation-englishfrench\",\n",
    "      file_path,\n",
    "      # Provide any additional arguments like\n",
    "      # sql_query or pandas_kwargs. See the\n",
    "      # documenation for more information:\n",
    "      # https://github.com/Kaggle/kagglehub/blob/main/README.md#kaggledatasetadapterpandas\n",
    "    )\n",
    "\n",
    "    # Shuffle the dataframe with a fixed seed\n",
    "    df = df.sample(frac=1, random_state=42).reset_index(drop=True)\n",
    "    df = df[:1000]\n",
    "    \n",
    "else:\n",
    "    # Local file loading\n",
    "    csv_file_path = \"english_french_translations.csv\"\n",
    "    \n",
    "    if os.path.exists(csv_file_path):\n",
    "        df = pd.read_csv(csv_file_path)\n",
    "    else:\n",
    "        raise FileNotFoundError(f\"CSV file '{csv_file_path}' not found\")\n",
    "\n",
    "display(df.head())"
   ]
  },
  {
   "cell_type": "markdown",
   "metadata": {},
   "source": [
    "Now let's prepare our translation pairs and split them into training and validation sets. The 80/20 split is a classic ratio that gives enough training data while preserving examples for unbiased evaluation."
   ]
  },
  {
   "cell_type": "code",
   "execution_count": 14,
   "metadata": {
    "colab": {
     "base_uri": "https://localhost:8080/"
    },
    "id": "3aFmfBmAdPmi",
    "outputId": "cca875ec-f65e-45b7-d240-fde18f5490cf"
   },
   "outputs": [
    {
     "name": "stdout",
     "output_type": "stream",
     "text": [
      "Total pairs: 1000\n",
      "Training pairs: 800\n",
      "Validation pairs: 200\n",
      "\\nExample pairs:\n",
      "1. English: 'Take a seat.' -> French: 'Prends place !'\n",
      "2. English: 'I wish Tom was here.' -> French: 'J'aimerais que Tom soit là.'\n",
      "3. English: 'How did the audition go?' -> French: 'Comment s'est passée l'audition ?'\n"
     ]
    }
   ],
   "source": [
    "# Use the downloaded data from the dataframe 'df'\n",
    "# Assuming 'df' has columns named 'English words/sentences' and 'French words/sentences'\n",
    "translation_pairs = []\n",
    "for index, row in df.iterrows():\n",
    "    english_sentence = row['English words/sentences']\n",
    "    french_sentence = row['French words/sentences']\n",
    "    translation_pairs.append((english_sentence, french_sentence))\n",
    "\n",
    "# Split into training and validation sets\n",
    "train_size = int(0.8 * len(translation_pairs))\n",
    "train_pairs = translation_pairs[:train_size]\n",
    "val_pairs = translation_pairs[train_size:]\n",
    "\n",
    "print(f\"Total pairs: {len(translation_pairs)}\")\n",
    "print(f\"Training pairs: {len(train_pairs)}\")\n",
    "print(f\"Validation pairs: {len(val_pairs)}\")\n",
    "print(f\"\\\\nExample pairs:\")\n",
    "for i, (en, fr) in enumerate(train_pairs[:3]):\n",
    "    print(f\"{i+1}. English: '{en}' -> French: '{fr}'\")"
   ]
  },
  {
   "cell_type": "markdown",
   "metadata": {
    "id": "2TBaLAESdPmi"
   },
   "source": [
    "## Data Preprocessing and Tokenization\n",
    "\n",
    "Since computers don't understand words,our job is to convert text into integers that the transformer can process.\n",
    "\n",
    "Think of vocabulary as a bilingual dictionary where every unique word gets a number:\n",
    "- \"hello\" → 42\n",
    "- \"bonjour\" → 17\n",
    "- \"world\" → 1337\n",
    "\n",
    "**Critical special tokens** (these aren't arbitrary - they're mathematically necessary):\n",
    "- `<pad>` (0): Padding token - makes all sequences the same length\n",
    "- `<sos>` (1): Start of sequence - tells the decoder \"begin translation\"\n",
    "- `<eos>` (2): End of sequence - tells the decoder \"stop generating\"  \n",
    "- `<unk>` (3): Unknown token - handles words not seen during training\n",
    "\n",
    "The Data Flow Pipeline:\n",
    "```\n",
    "Raw text → Tokenization → Vocabulary lookup → Integer sequences → Tensor batches\n",
    "```\n",
    "\n",
    "We use 80/20 split - a classic ratio that gives enough training data while preserving examples for unbiased evaluation."
   ]
  },
  {
   "cell_type": "code",
   "execution_count": null,
   "metadata": {
    "colab": {
     "base_uri": "https://localhost:8080/"
    },
    "id": "sIDhkVaCdPmi",
    "outputId": "a8534da1-c900-44eb-c5a9-eb8f0327b246"
   },
   "outputs": [
    {
     "name": "stdout",
     "output_type": "stream",
     "text": [
      "Building vocabularies...\n",
      "English vocabulary size: 1481\n",
      "French vocabulary size: 1790\n",
      "\\nEnglish words: ['<pad>', '<sos>', '<eos>', '<unk>', 'take', 'a', 'seat.', 'i', 'wish', 'tom']\n",
      "French words: ['<pad>', '<sos>', '<eos>', '<unk>', 'prends', 'place', '!', \"j'aimerais\", 'que', 'tom']\n",
      "\\nTokenization test (using training vocabulary words):\n",
      "'I wish Tom' -> [1, 7, 8, 9, 2]\n",
      "'Je prends place' -> [1, 17, 4, 5, 2]\n",
      "Back to text: 'i wish tom'\n",
      "Back to text: 'je prends place'\n",
      "\\n📝 Note: Previously 'Hello world' became <unk> <unk> because\n",
      "those words don't exist in our training data. The vocabulary only\n",
      "contains words seen during training from the 1000 translation pairs.\n"
     ]
    }
   ],
   "source": [
    "class Vocabulary:\n",
    "    def __init__(self):\n",
    "        self.word2idx = {\"<pad>\": 0, \"<sos>\": 1, \"<eos>\": 2, \"<unk>\": 3}\n",
    "        self.idx2word = {0: \"<pad>\", 1: \"<sos>\", 2: \"<eos>\", 3: \"<unk>\"}\n",
    "        self.word_count = {}\n",
    "        self.n_words = 4  # Count default tokens\n",
    "\n",
    "    def add_sentence(self, sentence):\n",
    "        # Simple split by space for now - can be improved with a proper tokenizer\n",
    "        for word in sentence.lower().split():\n",
    "            self.add_word(word)\n",
    "\n",
    "    def add_word(self, word):\n",
    "        if word not in self.word2idx:\n",
    "            self.word2idx[word] = self.n_words\n",
    "            self.idx2word[self.n_words] = word\n",
    "            self.word_count[word] = 1\n",
    "            self.n_words += 1\n",
    "        else:\n",
    "            self.word_count[word] += 1\n",
    "\n",
    "    def sentence_to_indices(self, sentence, add_eos=True):\n",
    "        indices = [self.word2idx[\"<sos>\"]]\n",
    "        for word in sentence.lower().split():\n",
    "            if word in self.word2idx:\n",
    "                indices.append(self.word2idx[word])\n",
    "            else:\n",
    "                indices.append(self.word2idx[\"<unk>\"])\n",
    "        if add_eos:\n",
    "            indices.append(self.word2idx[\"<eos>\"])\n",
    "        return indices\n",
    "\n",
    "    def indices_to_sentence(self, indices):\n",
    "        words = []\n",
    "        for idx in indices:\n",
    "            if idx == self.word2idx[\"<eos>\"]:\n",
    "                break\n",
    "            if idx not in [self.word2idx[\"<pad>\"], self.word2idx[\"<sos>\"]]:\n",
    "                words.append(self.idx2word[idx])\n",
    "        return \" \".join(words)\n",
    "\n",
    "# Create vocabularies\n",
    "english_vocab = Vocabulary()\n",
    "french_vocab = Vocabulary()\n",
    "\n",
    "# Build vocabularies from training data\n",
    "for en_sentence, fr_sentence in train_pairs: \n",
    "    english_vocab.add_sentence(en_sentence)\n",
    "    french_vocab.add_sentence(fr_sentence)\n",
    "\n",
    "print(f\"English vocabulary size: {english_vocab.n_words}\")\n",
    "print(f\"French vocabulary size: {french_vocab.n_words}\") \n",
    "\n"
   ]
  },
  {
   "cell_type": "markdown",
   "metadata": {},
   "source": [
    "**Source texts**: The input language (English sentences we want to translate)\n",
    "**Target texts**: The output language (French sentences we want to generate)\n",
    "\n",
    "Example:\n",
    "```\n",
    "Source: \"I wish Tom was here.\"     → [1, 8, 9, 10, 11, 2]  (English tokens)\n",
    "Target: \"J'aimerais que Tom soit là.\" → [1, 7, 8, 9, 10, 11, 2]  (French tokens)\n",
    "```\n",
    "\n",
    "Both get converted to integer sequences using their respective vocabularies.\n"
   ]
  },
  {
   "cell_type": "code",
   "execution_count": null,
   "metadata": {},
   "outputs": [],
   "source": [
    "# Test tokenization using actual words from our training vocabulary\n",
    "test_en = \"I wish Tom was here.\"  \n",
    "test_fr = \"J'aimerais que Tom soit là.\"  \n",
    "en_indices = english_vocab.sentence_to_indices(test_en)\n",
    "fr_indices = french_vocab.sentence_to_indices(test_fr) \n",
    "\n",
    "print(f\"'{test_en}' -> {en_indices}\")\n",
    "print(f\"'{test_fr}' -> {fr_indices}\") \n",
    "print(f\"Back to text: '{english_vocab.indices_to_sentence(en_indices)}'\")\n",
    "print(f\"Back to text: '{french_vocab.indices_to_sentence(fr_indices)}'\")"
   ]
  },
  {
   "cell_type": "markdown",
   "metadata": {},
   "source": [
    "## Creating PyTorch Datasets\n",
    "\n",
    "Now we need to package our data into PyTorch's `Dataset` and `DataLoader` classes. This handles the conversion from text to tensors and ensures efficient batching during training.\n",
    "\n",
    "\n",
    "### Padding: Making Batches Uniform\n",
    "\n",
    "**The problem**: Neural networks need tensors of consistent size, but sentences have different lengths:\n",
    "- \"Take a seat.\" → 4 tokens\n",
    "- \"I've no friend to talk to about my problems.\" → 10 tokens\n",
    "\n",
    "**The solution**: Pad shorter sequences with `<pad>` tokens (index 0) to match the longest sequence in each batch:\n",
    "\n",
    "```\n",
    "Batch before padding:\n",
    "[1, 4, 5, 6, 2]           # \"take a seat.\" (5 tokens)\n",
    "[1, 8, 9, 10, 11, 12, 13, 14, 15, 16, 2]  # longer sentence (11 tokens)\n",
    "\n",
    "Batch after padding:\n",
    "[1, 4, 5, 6, 2, 0, 0, 0, 0, 0, 0]         # padded to 11 tokens\n",
    "[1, 8, 9, 10, 11, 12, 13, 14, 15, 16, 2]  # already 11 tokens\n",
    "```\n",
    "\n",
    "The `collate_fn` takes a batch of these objects and creates padded tensors for efficient GPU processing."
   ]
  },
  {
   "cell_type": "code",
   "execution_count": null,
   "metadata": {
    "colab": {
     "base_uri": "https://localhost:8080/"
    },
    "id": "bu7CNENddPmj",
    "outputId": "0acb37fb-2a21-452b-fa9e-f1e241ad4c86"
   },
   "outputs": [
    {
     "name": "stdout",
     "output_type": "stream",
     "text": [
      "Training batches: 200\n",
      "Validation batches: 50\n",
      "\\nTesting data loader:\n",
      "Source batch shape: torch.Size([4, 11])\n",
      "Target batch shape: torch.Size([4, 11])\n",
      "Source texts: [\"Don't commit yourself.\", 'With a little more effort, he would have succeeded.', 'Most Japanese houses are built of wood.', \"You're very generous.\"]\n",
      "Target texts: [\"Ne t'engage pas.\", \"En faisant un peu plus d'effort, il aurait réussi.\", 'La plupart des maisons japonaises sont faites en bois.', 'Tu es fort généreux.']\n"
     ]
    }
   ],
   "source": [
    "class TranslationDataset(Dataset):\n",
    "    def __init__(self, pairs, src_vocab, tgt_vocab):\n",
    "        self.pairs = pairs\n",
    "        self.src_vocab = src_vocab\n",
    "        self.tgt_vocab = tgt_vocab\n",
    "\n",
    "    def __len__(self):\n",
    "        return len(self.pairs)\n",
    "\n",
    "    def __getitem__(self, idx):\n",
    "        src_sentence, tgt_sentence = self.pairs[idx]\n",
    "\n",
    "        # Convert to indices\n",
    "        src_indices = self.src_vocab.sentence_to_indices(src_sentence)\n",
    "        tgt_indices = self.tgt_vocab.sentence_to_indices(tgt_sentence)\n",
    "\n",
    "        return {\n",
    "            'src': torch.tensor(src_indices, dtype=torch.long),\n",
    "            'tgt': torch.tensor(tgt_indices, dtype=torch.long),\n",
    "            'src_text': src_sentence,\n",
    "            'tgt_text': tgt_sentence\n",
    "        }\n",
    "\n",
    "def collate_fn(batch):\n",
    "    \"\"\"Custom collate function to pad sequences in a batch\"\"\"\n",
    "    src_sequences = [item['src'] for item in batch]\n",
    "    tgt_sequences = [item['tgt'] for item in batch]\n",
    "    src_texts = [item['src_text'] for item in batch]\n",
    "    tgt_texts = [item['tgt_text'] for item in batch]\n",
    "\n",
    "    # Pad sequences\n",
    "    src_padded = pad_sequence(src_sequences, batch_first=True, padding_value=0)\n",
    "    tgt_padded = pad_sequence(tgt_sequences, batch_first=True, padding_value=0)\n",
    "\n",
    "    return {\n",
    "        'src': src_padded,\n",
    "        'tgt': tgt_padded,\n",
    "        'src_text': src_texts,\n",
    "        'tgt_text': tgt_texts\n",
    "    }\n",
    "\n",
    "# Create datasets\n",
    "train_dataset = TranslationDataset(train_pairs, english_vocab, french_vocab)\n",
    "val_dataset = TranslationDataset(val_pairs, english_vocab, french_vocab)\n",
    "\n",
    "# Create data loaders\n",
    "batch_size = 4\n",
    "train_loader = DataLoader(train_dataset, batch_size=batch_size, shuffle=True, collate_fn=collate_fn)\n",
    "val_loader = DataLoader(val_dataset, batch_size=batch_size, shuffle=False, collate_fn=collate_fn)\n",
    "\n",
    "print(f\"Training batches: {len(train_loader)}\")\n",
    "print(f\"Validation batches: {len(val_loader)}\")"
   ]
  },
  {
   "cell_type": "code",
   "execution_count": 28,
   "metadata": {},
   "outputs": [
    {
     "name": "stdout",
     "output_type": "stream",
     "text": [
      "Source batch shape: torch.Size([4, 13])\n",
      "Target batch shape: torch.Size([4, 16])\n",
      "Source indices: tensor([[   1,   39,  619,  266,  273, 1475, 1476,  298,   39,  409,   14,  312,\n",
      "            2],\n",
      "        [   1,    7,  218,  794,   52,  163,  867,    2,    0,    0,    0,    0,\n",
      "            0],\n",
      "        [   1,   86,    5,  246,  184,   14,  247,    2,    0,    0,    0,    0,\n",
      "            0],\n",
      "        [   1,  522,   14,  629,    2,    0,    0,    0,    0,    0,    0,    0,\n",
      "            0]])\n",
      "Target indices: tensor([[   1,  117, 1195,  359,  162,  298,   56,  323, 1783,  187,  125, 1784,\n",
      "           69,   70,  689,    2],\n",
      "        [   1,   17,  441,   19,  187,  908,    8,  196, 1016,   25, 1017,    2,\n",
      "            0,    0,    0,    0],\n",
      "        [   1,  117,  247,  167,  270,  175,  271,    2,    0,    0,    0,    0,\n",
      "            0,    0,    0,    0],\n",
      "        [   1,  574,   73,  700,    2,    0,    0,    0,    0,    0,    0,    0,\n",
      "            0,    0,    0,    0]])\n",
      "Source texts: ['You must have women throwing themselves at you all the time.', \"I can't believe that just worked.\", \"You're a victim of the system.\", 'Leave the bottle.']\n",
      "Target texts: ['Vous devez avoir des femmes qui se pendent à votre cou tout le temps.', \"Je n'arrive pas à croire que ça vienne de fonctionner.\", 'Vous êtes une victime du système.', 'Laisse la bouteille.']\n"
     ]
    }
   ],
   "source": [
    "# Get a sample from the dataset\n",
    "for batch in train_loader:\n",
    "    print(f\"Source batch shape: {batch['src'].shape}\")\n",
    "    print(f\"Target batch shape: {batch['tgt'].shape}\")\n",
    "    print(f\"Source indices: {batch['src']}\")\n",
    "    print(f\"Target indices: {batch['tgt']}\")\n",
    "    print(f\"Source texts: {batch['src_text']}\")\n",
    "    print(f\"Target texts: {batch['tgt_text']}\")\n",
    "    break\n"
   ]
  },
  {
   "cell_type": "markdown",
   "metadata": {},
   "source": [
    "## Transformer Model\n",
    "\n"
   ]
  },
  {
   "cell_type": "code",
   "execution_count": 17,
   "metadata": {},
   "outputs": [],
   "source": [
    "class PositionalEncoding(nn.Module):\n",
    "    def __init__(self, d_model, max_seq_len=5000, dropout=0.1):\n",
    "        super().__init__()\n",
    "        self.dropout = nn.Dropout(dropout)\n",
    "\n",
    "        # Create positional encoding matrix\n",
    "        pe = torch.zeros(max_seq_len, d_model)\n",
    "        position = torch.arange(0, max_seq_len).unsqueeze(1).float()\n",
    "\n",
    "        div_term = torch.exp(torch.arange(0, d_model, 2).float() *\n",
    "                           -(math.log(10000.0) / d_model))\n",
    "\n",
    "        pe[:, 0::2] = torch.sin(position * div_term)\n",
    "        pe[:, 1::2] = torch.cos(position * div_term)\n",
    "\n",
    "        pe = pe.unsqueeze(0)\n",
    "        self.register_buffer('pe', pe)\n",
    "\n",
    "    def forward(self, x):\n",
    "        seq_len = x.size(1)\n",
    "        x = x + self.pe[:, :seq_len]\n",
    "        return self.dropout(x)"
   ]
  },
  {
   "cell_type": "markdown",
   "metadata": {
    "id": "xXpRnKxYdPmk"
   },
   "source": [
    "### Building the Complete Transformer Model\n",
    "\n",
    "**Why separate embeddings?** PyTorch's `nn.Transformer` is just the core attention mechanism - it expects continuous vectors as input, not discrete tokens. We need embeddings to convert our token indices (like 42 for \"hello\") into dense 256-dimensional vectors that can participate in attention.\n",
    "\n",
    "- **Source vs Target Embeddings**: English and French have different vocabularies (1481 vs 1790 words), so they need separate embedding matrices. The English embedding learns that token 42 might represent \"hello\", while the French embedding learns that token 17 represents \"bonjour\".\n",
    "\n",
    "- **Causal mask**: Prevents the decoder from \"cheating\" by looking at future tokens during training"
   ]
  },
  {
   "cell_type": "code",
   "execution_count": null,
   "metadata": {
    "colab": {
     "base_uri": "https://localhost:8080/"
    },
    "id": "Rj7P3RJ9dPml",
    "outputId": "6236535a-5d13-477f-a6a3-262dfcd53668"
   },
   "outputs": [
    {
     "name": "stdout",
     "output_type": "stream",
     "text": [
      "Model created with 5,252,094 trainable parameters\n",
      "Model device: cpu\n"
     ]
    }
   ],
   "source": [
    "\n",
    "class TransformerModel(nn.Module):\n",
    "    def __init__(self, \n",
    "                 src_vocab_size, \n",
    "                 tgt_vocab_size, \n",
    "                 d_model=256, \n",
    "                 nhead=8,\n",
    "                 num_encoder_layers=3, \n",
    "                 num_decoder_layers=3, \n",
    "                 dim_feedforward=512,\n",
    "                 dropout=0.1, \n",
    "                 max_seq_len=100):\n",
    "        super().__init__()\n",
    "\n",
    "        self.d_model = d_model\n",
    "        self.src_vocab_size = src_vocab_size\n",
    "        self.tgt_vocab_size = tgt_vocab_size\n",
    "\n",
    "        # Embeddings\n",
    "        self.src_embedding = nn.Embedding(src_vocab_size, d_model)\n",
    "        self.tgt_embedding = nn.Embedding(tgt_vocab_size, d_model)\n",
    "\n",
    "        # Positional encoding\n",
    "        self.pos_encoding = PositionalEncoding(d_model, max_seq_len, dropout)\n",
    "\n",
    "        # Transformer\n",
    "        self.transformer = nn.Transformer(\n",
    "            d_model=d_model,\n",
    "            nhead=nhead,\n",
    "            num_encoder_layers=num_encoder_layers,\n",
    "            num_decoder_layers=num_decoder_layers,\n",
    "            dim_feedforward=dim_feedforward,\n",
    "            dropout=dropout,\n",
    "            batch_first=True\n",
    "        )\n",
    "\n",
    "        # Output projection\n",
    "        self.output_projection = nn.Linear(d_model, tgt_vocab_size)\n",
    "\n",
    "        # Initialize parameters\n",
    "        self.init_weights()\n",
    "\n",
    "    def init_weights(self):\n",
    "        initrange = 0.1\n",
    "        self.src_embedding.weight.data.uniform_(-initrange, initrange)\n",
    "        self.tgt_embedding.weight.data.uniform_(-initrange, initrange)\n",
    "        self.output_projection.bias.data.zero_()\n",
    "        self.output_projection.weight.data.uniform_(-initrange, initrange)\n",
    "\n",
    "    def create_mask(self, src, tgt):\n",
    "        src_seq_len = src.shape[1]\n",
    "        tgt_seq_len = tgt.shape[1]\n",
    "\n",
    "        # Create causal mask for target\n",
    "        tgt_mask = torch.triu(torch.ones(tgt_seq_len, tgt_seq_len) * float('-inf'), diagonal=1)\n",
    "\n",
    "        # Create padding masks\n",
    "        src_padding_mask = (src == 0)  # True for padding tokens\n",
    "        tgt_padding_mask = (tgt == 0)  # True for padding tokens\n",
    "\n",
    "        return tgt_mask.to(src.device), src_padding_mask, tgt_padding_mask\n",
    "\n",
    "    def forward(self, src, tgt):\n",
    "        # Create masks\n",
    "        tgt_mask, src_padding_mask, tgt_padding_mask = self.create_mask(src, tgt)\n",
    "\n",
    "        # Embed and add positional encoding\n",
    "        src_emb = self.pos_encoding(self.src_embedding(src) * math.sqrt(self.d_model))\n",
    "        tgt_emb = self.pos_encoding(self.tgt_embedding(tgt) * math.sqrt(self.d_model))\n",
    "\n",
    "        # Transformer forward pass\n",
    "        output = self.transformer(\n",
    "            src=src_emb,\n",
    "            tgt=tgt_emb,\n",
    "            tgt_mask=tgt_mask,\n",
    "            src_key_padding_mask=src_padding_mask,\n",
    "            tgt_key_padding_mask=tgt_padding_mask\n",
    "        )\n",
    "\n",
    "        # Project to vocabulary\n",
    "        return self.output_projection(output)\n",
    "\n",
    "# Model hyperparameters\n",
    "d_model = 256\n",
    "nhead = 8\n",
    "num_encoder_layers = 3\n",
    "num_decoder_layers = 3\n",
    "dim_feedforward = 512\n",
    "dropout = 0.1\n",
    "\n",
    "# Create model\n",
    "model = TransformerModel(\n",
    "    src_vocab_size=english_vocab.n_words,\n",
    "    tgt_vocab_size=french_vocab.n_words, # Changed from german_vocab.n_words\n",
    "    d_model=d_model,\n",
    "    nhead=nhead,\n",
    "    num_encoder_layers=num_encoder_layers,\n",
    "    num_decoder_layers=num_decoder_layers,\n",
    "    dim_feedforward=dim_feedforward,\n",
    "    dropout=dropout\n",
    ").to(device)\n",
    "\n",
    "print(f\"Model created with {sum(p.numel() for p in model.parameters() if p.requires_grad):,} trainable parameters\")\n",
    "print(f\"Model device: {next(model.parameters()).device}\")\n"
   ]
  },
  {
   "cell_type": "markdown",
   "metadata": {},
   "source": [
    "### Testing the Model Forward Pass\n",
    "\n",
    "Before training, we always test that our model works correctly with real data. This code snippet verifies:\n",
    "\n",
    "1. **Tensor shapes**: Ensures our model produces the expected output dimensions\n",
    "2. **Teacher forcing setup**: Shows how we shift target sequences (input vs output targets)\n",
    "3. **Device compatibility**: Confirms tensors are on the correct GPU/CPU\n",
    "4. **No runtime errors**: Catches issues before expensive training begins\n",
    "\n",
    "The target shifting is crucial: during training, the decoder sees `<sos> Je suis` and predicts `Je suis <eos>`. This teaches the model to generate each token given the previous context."
   ]
  },
  {
   "cell_type": "code",
   "execution_count": 19,
   "metadata": {},
   "outputs": [
    {
     "name": "stdout",
     "output_type": "stream",
     "text": [
      "Source shape: torch.Size([4, 11])\n",
      "Target input shape: torch.Size([4, 11])\n",
      "Target output shape: torch.Size([4, 11])\n",
      "Model output shape: torch.Size([4, 11, 1790])\n",
      "✅ Model forward pass successful!\n"
     ]
    }
   ],
   "source": [
    "\n",
    "# Test model with a batch\n",
    "model.eval()\n",
    "with torch.no_grad():\n",
    "    for batch in train_loader:\n",
    "        src = batch['src'].to(device)\n",
    "        tgt = batch['tgt'].to(device)\n",
    "\n",
    "        # For training, we use target input (shifted by one position)\n",
    "        tgt_input = tgt[:, :-1]  # Remove last token\n",
    "        tgt_output = tgt[:, 1:]  # Remove first token (SOS)\n",
    "\n",
    "        print(f\"Source shape: {src.shape}\")\n",
    "        print(f\"Target input shape: {tgt_input.shape}\")\n",
    "        print(f\"Target output shape: {tgt_output.shape}\")\n",
    "\n",
    "        output = model(src, tgt_input)\n",
    "        print(f\"Model output shape: {output.shape}\")\n",
    "        print(\"✅ Model forward pass successful!\")\n",
    "        break"
   ]
  },
  {
   "cell_type": "markdown",
   "metadata": {
    "id": "dO5TWWlwdPmm"
   },
   "source": [
    "## Training Loop\n",
    "\n",
    "Time to teach our transformer to translate!\n",
    "\n",
    "**Input to decoder**: `<sos> Je suis heureux`\n",
    "**Target for loss**: `Je suis heureux <eos>`\n",
    "\n",
    "Notice the shift - the model learns to predict each token given all previous tokens.\n",
    "\n",
    "\n",
    "- CrossEntropyLoss: The model outputs probability distributions over the vocabulary (~1790 French words). We want high probability for the correct word, low for others.\n",
    "\n",
    "Training Hyperparameters:\n",
    "\n",
    "- **Learning rate**: 0.0001 - small enough for stable training, large enough for progress\n",
    "- **Gradient clipping**: Max norm 1.0 - prevents exploding gradients that can destroy training\n",
    "- **Scheduler**: ReduceLROnPlateau - when validation loss plateaus, reduce learning rate by 50%\n",
    "- **Batch size**: 4 - small due to memory constraints, larger would be better\n",
    "\n",
    "\n",
    "**Good signs**:\n",
    "- Training loss decreasing steadily (6.0 → 2.8)\n",
    "- Validation loss following training loss initially\n",
    "- No NaN or infinite losses\n",
    "\n",
    "**Warning signs**:\n",
    "- Large gap between train/validation loss (overfitting - we see this!)\n",
    "- Validation loss increasing while training decreases (definite overfitting)\n",
    "- Loss oscillating wildly (learning rate too high)\n",
    "\n",
    "**Expected behavior**: With only 1000 examples, the model will overfit (memorize training data). This is normal and educational - you're seeing why large datasets matter!"
   ]
  },
  {
   "cell_type": "code",
   "execution_count": null,
   "metadata": {
    "colab": {
     "base_uri": "https://localhost:8080/"
    },
    "id": "5FP6cXZLdPmm",
    "outputId": "fe8c94cc-dd1e-46fd-91bd-1260cb9b59b8"
   },
   "outputs": [
    {
     "name": "stdout",
     "output_type": "stream",
     "text": [
      "Starting training for 10 epochs...\n",
      "Learning rate: 0.0001\n",
      "Epoch [1/10], Batch [100/200], Loss: 6.4381\n",
      "Epoch [1/10], Batch [200/200], Loss: 6.2279\n",
      "Epoch [1/10] - Train Loss: 6.2279, Val Loss: 5.8683\n",
      "--------------------------------------------------\n",
      "Epoch [2/10], Batch [100/200], Loss: 5.5059\n",
      "Epoch [2/10], Batch [200/200], Loss: 5.4847\n",
      "Epoch [2/10] - Train Loss: 5.4847, Val Loss: 5.7588\n",
      "--------------------------------------------------\n",
      "Epoch [3/10], Batch [100/200], Loss: 5.1205\n",
      "Epoch [3/10], Batch [200/200], Loss: 5.0791\n",
      "Epoch [3/10] - Train Loss: 5.0791, Val Loss: 5.5748\n",
      "--------------------------------------------------\n"
     ]
    }
   ],
   "source": [
    "# Training loop\n",
    "# Training configuration\n",
    "learning_rate = 0.0001\n",
    "num_epochs = 10\n",
    "#patience = 10  # For early stopping\n",
    "\n",
    "# Loss function and optimizer\n",
    "criterion = nn.CrossEntropyLoss(ignore_index=0)  # Ignore padding tokens\n",
    "optimizer = optim.Adam(model.parameters(), lr=learning_rate)\n",
    "scheduler = optim.lr_scheduler.ReduceLROnPlateau(optimizer, patience=5, factor=0.5)\n",
    "\n",
    "# Training history\n",
    "train_losses = []\n",
    "val_losses = []\n",
    "best_val_loss = float('inf')\n",
    "patience_counter = 0\n",
    "\n",
    "print(f\"Starting training for {num_epochs} epochs...\")\n",
    "print(f\"Learning rate: {learning_rate}\")\n",
    "#print(f\"Patience: {patience}\")\n",
    "\n",
    "for epoch in range(num_epochs):\n",
    "    # Training phase\n",
    "    model.train()\n",
    "    total_train_loss = 0\n",
    "    num_train_steps = 0\n",
    "\n",
    "    for batch_idx, batch in enumerate(train_loader):\n",
    "        src = batch['src'].to(device)\n",
    "        tgt = batch['tgt'].to(device)\n",
    "\n",
    "        # Prepare input and target for training\n",
    "        tgt_input = tgt[:, :-1]  # Remove last token (<EOS>)\n",
    "        tgt_output = tgt[:, 1:]  # Remove first token (<SOS>)\n",
    "\n",
    "        # Zero gradients\n",
    "        optimizer.zero_grad()\n",
    "\n",
    "        # Forward pass\n",
    "        output = model(src, tgt_input)\n",
    "\n",
    "        # Calculate loss\n",
    "        loss = criterion(output.reshape(-1, output.shape[-1]), tgt_output.reshape(-1))\n",
    "\n",
    "        # Backward pass\n",
    "        loss.backward()\n",
    "\n",
    "        # Gradient clipping to prevent exploding gradients\n",
    "        torch.nn.utils.clip_grad_norm_(model.parameters(), max_norm=1.0)\n",
    "\n",
    "        # Update parameters\n",
    "        optimizer.step()\n",
    "\n",
    "        total_train_loss += loss.item()\n",
    "        num_train_steps += 1\n",
    "\n",
    "        # Print progress\n",
    "        if (batch_idx + 1) % 100 == 0:\n",
    "            avg_loss = total_train_loss / num_train_steps\n",
    "            print(f\"Epoch [{epoch+1}/{num_epochs}], Batch [{batch_idx+1}/{len(train_loader)}], Loss: {avg_loss:.4f}\")\n",
    "\n",
    "    # Calculate average training loss\n",
    "    avg_train_loss = total_train_loss / num_train_steps\n",
    "    train_losses.append(avg_train_loss)\n",
    "\n",
    "    # Validation phase\n",
    "    model.eval()\n",
    "    total_val_loss = 0\n",
    "    num_val_steps = 0\n",
    "\n",
    "    with torch.no_grad():\n",
    "        for batch in val_loader:\n",
    "            src = batch['src'].to(device)\n",
    "            tgt = batch['tgt'].to(device)\n",
    "\n",
    "            tgt_input = tgt[:, :-1]\n",
    "            tgt_output = tgt[:, 1:]\n",
    "\n",
    "            output = model(src, tgt_input)\n",
    "            loss = criterion(output.reshape(-1, output.shape[-1]), tgt_output.reshape(-1))\n",
    "\n",
    "            total_val_loss += loss.item()\n",
    "            num_val_steps += 1\n",
    "\n",
    "    avg_val_loss = total_val_loss / num_val_steps if num_val_steps > 0 else float('inf')\n",
    "    val_losses.append(avg_val_loss)\n",
    "\n",
    "    # Learning rate scheduling\n",
    "    scheduler.step(avg_val_loss)\n",
    "\n",
    "    print(f\"Epoch [{epoch+1}/{num_epochs}] - Train Loss: {avg_train_loss:.4f}, Val Loss: {avg_val_loss:.4f}\")\n",
    "\n",
    "    \"\"\"\n",
    "    # Early stopping\n",
    "    if avg_val_loss < best_val_loss:\n",
    "        best_val_loss = avg_val_loss\n",
    "        patience_counter = 0\n",
    "        # Save best model\n",
    "        torch.save(model.state_dict(), 'best_transformer_model.pth')\n",
    "        print(f\"New best validation loss: {best_val_loss:.4f} - Model saved!\")\n",
    "    else:\n",
    "        patience_counter += 1\n",
    "        if patience_counter >= patience:\n",
    "            print(f\"Early stopping triggered after {epoch + 1} epochs\")\n",
    "            break\n",
    "    \"\"\"\n",
    "\n",
    "    print(\"-\" * 50)\n",
    "\n",
    "print(\"Training completed!\")\n",
    "\n",
    "# Load best model\n",
    "#model.load_state_dict(torch.load('best_transformer_model.pth'))\n",
    "print(f\"Best validation loss: {best_val_loss:.4f}\")"
   ]
  },
  {
   "cell_type": "markdown",
   "metadata": {
    "id": "_Yod-89PdPmm"
   },
   "source": [
    "## Evaluation and Metrics\n",
    "\n",
    "How well did our transformer learn to translate?\n",
    "\n"
   ]
  },
  {
   "cell_type": "code",
   "execution_count": null,
   "metadata": {
    "colab": {
     "base_uri": "https://localhost:8080/",
     "height": 522
    },
    "id": "iLIv5c4wdPmn",
    "outputId": "27bfd808-6958-4bb1-846b-413e75668eed"
   },
   "outputs": [
    {
     "data": {
      "image/png": "[encoded data removed]",
      "text/plain": [
       "<Figure size 1200x400 with 1 Axes>"
      ]
     },
     "metadata": {},
     "output_type": "display_data"
    },
    {
     "name": "stdout",
     "output_type": "stream",
     "text": [
      "Final training loss: 2.8521\n",
      "Final validation loss: 5.2372\n"
     ]
    },
    {
     "name": "stderr",
     "output_type": "stream",
     "text": [
      "/usr/local/lib/python3.11/dist-packages/torch/nn/functional.py:5962: UserWarning: Support for mismatched key_padding_mask and attn_mask is deprecated. Use same type for both instead.\n",
      "  warnings.warn(\n"
     ]
    },
    {
     "name": "stdout",
     "output_type": "stream",
     "text": [
      "Validation accuracy: 0.2941 (29.41%)\n"
     ]
    }
   ],
   "source": [
    "# Plot training and validation loss\n",
    "plt.figure(figsize=(12, 4))\n",
    "\n",
    "# Plot on the first subplot\n",
    "plt.plot(train_losses, 'b-', label='Training Loss')\n",
    "plt.plot(val_losses, 'r-', label='Validation Loss')\n",
    "plt.title('Training and Validation Loss')\n",
    "plt.xlabel('Epoch')\n",
    "plt.ylabel('Loss')\n",
    "plt.legend()\n",
    "plt.grid(True)\n",
    "\n",
    "plt.show()\n",
    "\n",
    "print(f\"Final training loss: {train_losses[-1]:.4f}\")\n",
    "print(f\"Final validation loss: {val_losses[-1]:.4f}\")\n",
    "\n",
    "# Calculate accuracy on validation set\n",
    "def calculate_accuracy(model, data_loader, vocab):\n",
    "    model.eval()\n",
    "    correct_tokens = 0\n",
    "    total_tokens = 0\n",
    "\n",
    "    with torch.no_grad():\n",
    "        for batch in data_loader:\n",
    "            src = batch['src'].to(device)\n",
    "            tgt = batch['tgt'].to(device)\n",
    "\n",
    "            tgt_input = tgt[:, :-1]\n",
    "            tgt_output = tgt[:, 1:]\n",
    "\n",
    "            output = model(src, tgt_input)\n",
    "            predictions = output.argmax(dim=-1)\n",
    "\n",
    "            # Only count non-padding tokens\n",
    "            mask = (tgt_output != 0)\n",
    "            correct_tokens += ((predictions == tgt_output) & mask).sum().item()\n",
    "            total_tokens += mask.sum().item()\n",
    "\n",
    "    return correct_tokens / total_tokens if total_tokens > 0 else 0\n",
    "\n",
    "val_accuracy = calculate_accuracy(model, val_loader, french_vocab)\n",
    "print(f\"Validation accuracy: {val_accuracy:.4f} ({val_accuracy*100:.2f}%)\")"
   ]
  },
  {
   "cell_type": "markdown",
   "metadata": {},
   "source": [
    "**The Story in Numbers**:\n",
    "- Training loss: 6.22 → 2.85 (excellent - the model is learning!)\n",
    "- Validation loss: 5.91 → 5.24 (concerning - barely improved)\n",
    "\n",
    "**What this tells us**: Classic overfitting! The model memorized the training data but didn't generalize. This is mathematically inevitable with only 1000 examples - production systems need millions."
   ]
  },
  {
   "cell_type": "markdown",
   "metadata": {
    "id": "_-uajsiUdPmn"
   },
   "source": [
    "## Inference and Translation\n",
    "\n",
    "The real test: can our transformer translate sentences it has never seen? This is where we implement autoregressive generation - the same process ChatGPT uses to generate text.\n",
    "\n",
    "### Autoregressive Generation: One Token at a Time\n",
    "\n",
    "Unlike training (where we see the entire target sequence), inference generates token-by-token:\n",
    "\n",
    "```\n",
    "Input: \"Hello world\"\n",
    "Step 1: <sos> → \"bonjour\" (probability distribution over 1790 French words)\n",
    "Step 2: <sos> bonjour → \"le\" \n",
    "Step 3: <sos> bonjour le → \"monde\"\n",
    "Step 4: <sos> bonjour le monde → <eos> (stop)\n",
    "Output: \"bonjour le monde\"\n",
    "```\n",
    "\n",
    "**Mathematical process**: At each step, the model computes P(next_word | input, previous_words) and selects the highest probability token (greedy decoding).\n",
    "\n",
    "\n",
    "Our `translate_sentence()` function implements this exactly:\n",
    "1. **Encode**: Convert English to token indices\n",
    "2. **Initialize**: Start with `<sos>` token  \n",
    "3. **Generate**: Predict next token given current sequence\n",
    "4. **Repeat**: Until `<eos>` or max length reached\n",
    "5. **Decode**: Convert token indices back to French text\n",
    "\n",
    "### Expected Results vs Reality\n",
    "\n",
    "**What good translations look like**:\n",
    "- \"Hello\" → \"Bonjour\" (direct mapping)\n",
    "- \"Thank you\" → \"Merci\" (common phrase)\n",
    "- \"Good morning\" → \"Bonjour\" (contextual understanding)\n"
   ]
  },
  {
   "cell_type": "code",
   "execution_count": null,
   "metadata": {
    "colab": {
     "base_uri": "https://localhost:8080/"
    },
    "id": "wpbNDTyJdPmn",
    "outputId": "e17cbd6e-715e-43b2-cb4b-0bf0d9c4124a"
   },
   "outputs": [
    {
     "name": "stdout",
     "output_type": "stream",
     "text": [
      "Example 1:\n",
      "English: 'Arabic is read from right to left.'\n",
      "Expected: 'L'arabe se lit de droite à gauche.'\n",
      "Generated: 'il est à ma ?'\n",
      "------------------------------\n",
      "Example 2:\n",
      "English: 'Compared with yours, my car is small.'\n",
      "Expected: 'Comparée à ta voiture, la mienne est petite.'\n",
      "Generated: 'c'est une est un bon en train de mon soleil.'\n",
      "------------------------------\n",
      "Example 3:\n",
      "English: 'That'll be enough.'\n",
      "Expected: 'Ça sera suffisant.'\n",
      "Generated: 'nous devons à tom ?'\n",
      "------------------------------\n",
      "Example 4:\n",
      "English: 'Tom likes to climb the trees.'\n",
      "Expected: 'Tom aime grimper aux arbres.'\n",
      "Generated: 'tom a été en train de tom ?'\n",
      "------------------------------\n",
      "Example 5:\n",
      "English: 'I just took a shower.'\n",
      "Expected: 'Je viens de prendre une douche.'\n",
      "Generated: 'je n'ai pas à une telle d'un'\n",
      "------------------------------\n"
     ]
    }
   ],
   "source": [
    "def translate_sentence(model, sentence, src_vocab, tgt_vocab, max_length=50):\n",
    "    \"\"\"\n",
    "    Translate a single sentence using the trained model\n",
    "    \"\"\"\n",
    "    model.eval()\n",
    "\n",
    "    # Convert input sentence to indices\n",
    "    src_indices = src_vocab.sentence_to_indices(sentence, add_eos=True)\n",
    "    src_tensor = torch.tensor([src_indices], dtype=torch.long).to(device)\n",
    "\n",
    "    # Initialize target with SOS token\n",
    "    tgt_indices = [tgt_vocab.word2idx[\"<sos>\"]]\n",
    "\n",
    "    with torch.no_grad():\n",
    "        for _ in range(max_length):\n",
    "            tgt_tensor = torch.tensor([tgt_indices], dtype=torch.long).to(device)\n",
    "\n",
    "            # Get model prediction\n",
    "            output = model(src_tensor, tgt_tensor)\n",
    "\n",
    "            # Get the prediction for the last token\n",
    "            next_token_logits = output[0, -1, :]\n",
    "            next_token = next_token_logits.argmax().item()\n",
    "\n",
    "            # Add predicted token to target sequence\n",
    "            tgt_indices.append(next_token)\n",
    "\n",
    "            # Stop if we predict EOS token\n",
    "            if next_token == tgt_vocab.word2idx[\"<eos>\"]:\n",
    "                break\n",
    "\n",
    "    # Convert indices back to sentence\n",
    "    translated_sentence = tgt_vocab.indices_to_sentence(tgt_indices)\n",
    "    return translated_sentence\n",
    "\n",
    "# Test on validation examples\n",
    "for i, (en_sentence, de_sentence) in enumerate(val_pairs[:5]):\n",
    "    translation = translate_sentence(model, en_sentence, english_vocab, french_vocab)\n",
    "    print(f\"Example {i+1}:\")\n",
    "    print(f\"English: '{en_sentence}'\")\n",
    "    print(f\"Expected: '{de_sentence}'\")\n",
    "    print(f\"Generated: '{translation}'\")\n",
    "    print(\"-\" * 30)"
   ]
  },
  {
   "cell_type": "markdown",
   "metadata": {
    "id": "B5yOzZm0dPmo"
   },
   "source": [
    "## Summary\n",
    "\n",
    "Congratulations! You've built a complete transformer translation pipeline from scratch. More importantly, you've learned why transformers work - and why they sometimes don't."
   ]
  }
 ],
 "metadata": {
  "accelerator": "GPU",
  "colab": {
   "gpuType": "T4",
   "provenance": []
  },
  "kernelspec": {
   "display_name": "Python 3",
   "name": "python3"
  },
  "language_info": {
   "codemirror_mode": {
    "name": "ipython",
    "version": 3
   },
   "file_extension": ".py",
   "mimetype": "text/x-python",
   "name": "python",
   "nbconvert_exporter": "python",
   "pygments_lexer": "ipython3",
   "version": "3.7.2"
  }
 },
 "nbformat": 4,
 "nbformat_minor": 0
}
