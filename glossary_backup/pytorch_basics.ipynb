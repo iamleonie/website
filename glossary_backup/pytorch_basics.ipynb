{
 "cells": [
  {
   "cell_type": "markdown",
   "metadata": {},
   "source": [
    "---\n",
    "title: \"PyTorch Fundamentals\"\n",
    "description: \"A comprehensive guide to PyTorch basics and essential operations\"\n",
    "date: \"2025-02-09\"\n",
    "date-modified: \"2025-02-22\"\n",
    "bread-crumbs: true\n",
    "back-to-top-navigation: true\n",
    "toc: true\n",
    "toc-depth: 3\n",
    "---\n",
    "\n",
    "Welcome to this comprehensive guide covering the essential PyTorch operations and concepts you need to master deep learning with PyTorch."
   ]
  },
  {
   "cell_type": "code",
   "execution_count": 3,
   "metadata": {},
   "outputs": [
    {
     "name": "stdout",
     "output_type": "stream",
     "text": [
      "Requirement already satisfied: torch in /usr/local/lib/python3.11/site-packages (2.2.2)\n",
      "Requirement already satisfied: filelock in /usr/local/lib/python3.11/site-packages (from torch) (3.12.0)\n",
      "Requirement already satisfied: typing-extensions>=4.8.0 in /usr/local/lib/python3.11/site-packages (from torch) (4.13.2)\n",
      "Requirement already satisfied: sympy in /usr/local/lib/python3.11/site-packages (from torch) (1.11.1)\n",
      "Requirement already satisfied: networkx in /usr/local/lib/python3.11/site-packages (from torch) (2.8.8)\n",
      "Requirement already satisfied: jinja2 in /usr/local/lib/python3.11/site-packages (from torch) (3.1.2)\n",
      "Requirement already satisfied: fsspec in /usr/local/lib/python3.11/site-packages (from torch) (2025.3.2)\n",
      "Requirement already satisfied: MarkupSafe>=2.0 in /usr/local/lib/python3.11/site-packages (from jinja2->torch) (2.1.2)\n",
      "Requirement already satisfied: mpmath>=0.19 in /usr/local/lib/python3.11/site-packages (from sympy->torch) (1.3.0)\n",
      "\n",
      "\u001b[1m[\u001b[0m\u001b[34;49mnotice\u001b[0m\u001b[1;39;49m]\u001b[0m\u001b[39;49m A new release of pip is available: \u001b[0m\u001b[31;49m25.1.1\u001b[0m\u001b[39;49m -> \u001b[0m\u001b[32;49m25.2\u001b[0m\n",
      "\u001b[1m[\u001b[0m\u001b[34;49mnotice\u001b[0m\u001b[1;39;49m]\u001b[0m\u001b[39;49m To update, run: \u001b[0m\u001b[32;49m/usr/local/opt/python@3.11/bin/python3.11 -m pip install --upgrade pip\u001b[0m\n"
     ]
    }
   ],
   "source": [
    "!pip install torch"
   ]
  },
  {
   "cell_type": "code",
   "execution_count": 4,
   "metadata": {},
   "outputs": [
    {
     "name": "stdout",
     "output_type": "stream",
     "text": [
      "PyTorch version: 1.13.1\n",
      "CUDA available: False\n"
     ]
    }
   ],
   "source": [
    "import torch\n",
    "\n",
    "print(f\"PyTorch version: {torch.__version__}\")\n",
    "print(f\"CUDA available: {torch.cuda.is_available()}\")"
   ]
  },
  {
   "cell_type": "markdown",
   "metadata": {},
   "source": [
    "## Basic Tensor Operations\n",
    "\n",
    "Tensors are the fundamental data structure in PyTorch. Let's explore how to create and manipulate them."
   ]
  },
  {
   "cell_type": "markdown",
   "metadata": {},
   "source": [
    "### Tensor Creation\n",
    "\n",
    "Creating tensors is the first step in any PyTorch workflow. Let's start by creating basic tensors from Python data structures."
   ]
  },
  {
   "cell_type": "code",
   "execution_count": 5,
   "metadata": {},
   "outputs": [
    {
     "data": {
      "text/plain": [
       "tensor([[1, 2],\n",
       "        [3, 4]])"
      ]
     },
     "execution_count": 5,
     "metadata": {},
     "output_type": "execute_result"
    }
   ],
   "source": [
    "data = [[1, 2], [3, 4]]\n",
    "x = torch.tensor(data)\n",
    "\n",
    "x"
   ]
  },
  {
   "cell_type": "markdown",
   "metadata": {},
   "source": [
    "Common tensor creation functions provide efficient ways to initialize tensors with specific patterns or random values."
   ]
  },
  {
   "cell_type": "code",
   "execution_count": 6,
   "metadata": {},
   "outputs": [
    {
     "data": {
      "text/plain": [
       "tensor([[0., 0., 0.],\n",
       "        [0., 0., 0.]])"
      ]
     },
     "execution_count": 6,
     "metadata": {},
     "output_type": "execute_result"
    }
   ],
   "source": [
    "zeros = torch.zeros(2, 3)\n",
    "zeros"
   ]
  },
  {
   "cell_type": "code",
   "execution_count": 7,
   "metadata": {},
   "outputs": [
    {
     "data": {
      "text/plain": [
       "tensor([[1., 1., 1.],\n",
       "        [1., 1., 1.]])"
      ]
     },
     "execution_count": 7,
     "metadata": {},
     "output_type": "execute_result"
    }
   ],
   "source": [
    "ones = torch.ones(2, 3)\n",
    "ones"
   ]
  },
  {
   "cell_type": "code",
   "execution_count": 8,
   "metadata": {},
   "outputs": [
    {
     "data": {
      "text/plain": [
       "tensor([[ 1.7444,  1.8386,  0.5435],\n",
       "        [ 1.0317,  1.5514, -1.0549]])"
      ]
     },
     "execution_count": 8,
     "metadata": {},
     "output_type": "execute_result"
    }
   ],
   "source": [
    "randn = torch.randn(2, 3)  # Normal distribution\n",
    "randn"
   ]
  },
  {
   "cell_type": "code",
   "execution_count": 9,
   "metadata": {},
   "outputs": [
    {
     "data": {
      "text/plain": [
       "tensor([[0.1848, 0.1586, 0.2189],\n",
       "        [0.1242, 0.7478, 0.6344]])"
      ]
     },
     "execution_count": 9,
     "metadata": {},
     "output_type": "execute_result"
    }
   ],
   "source": [
    "rand = torch.rand(2, 3)    # Uniform [0, 1)\n",
    "rand"
   ]
  },
  {
   "cell_type": "code",
   "execution_count": 10,
   "metadata": {},
   "outputs": [
    {
     "data": {
      "text/plain": [
       "tensor([0, 2, 4, 6, 8])"
      ]
     },
     "execution_count": 10,
     "metadata": {},
     "output_type": "execute_result"
    }
   ],
   "source": [
    "arange = torch.arange(0, 10, 2)  # Range with step\n",
    "arange"
   ]
  },
  {
   "cell_type": "markdown",
   "metadata": {},
   "source": [
    "### Tensor Properties\n",
    "\n",
    "The `.shape` property tells you the dimensions of your tensor. This is crucial for understanding what operations you can perform and for debugging tensor size mismatches."
   ]
  },
  {
   "cell_type": "code",
   "execution_count": 11,
   "metadata": {},
   "outputs": [
    {
     "data": {
      "text/plain": [
       "torch.Size([2, 2])"
      ]
     },
     "execution_count": 11,
     "metadata": {},
     "output_type": "execute_result"
    }
   ],
   "source": [
    "x.shape"
   ]
  },
  {
   "cell_type": "markdown",
   "metadata": {},
   "source": [
    "The `.dim()` method returns the number of dimensions (axes) in your tensor. A scalar has 0 dimensions, a vector has 1, a matrix has 2, and so on."
   ]
  },
  {
   "cell_type": "code",
   "execution_count": 12,
   "metadata": {},
   "outputs": [
    {
     "data": {
      "text/plain": [
       "2"
      ]
     },
     "execution_count": 12,
     "metadata": {},
     "output_type": "execute_result"
    }
   ],
   "source": [
    "x.dim()"
   ]
  },
  {
   "cell_type": "markdown",
   "metadata": {},
   "source": [
    "Data types (`dtype`) control memory usage and computational precision. PyTorch supports various data types, with `float32` being the default for most operations."
   ]
  },
  {
   "cell_type": "code",
   "execution_count": 13,
   "metadata": {},
   "outputs": [
    {
     "data": {
      "text/plain": [
       "torch.int64"
      ]
     },
     "execution_count": 13,
     "metadata": {},
     "output_type": "execute_result"
    }
   ],
   "source": [
    "x.dtype\n"
   ]
  },
  {
   "cell_type": "markdown",
   "metadata": {},
   "source": [
    "### Indexing & Selection"
   ]
  },
  {
   "cell_type": "markdown",
   "metadata": {},
   "source": [
    "Tensor indexing works similarly to NumPy arrays, supporting integer indexing, slicing, boolean indexing, and fancy indexing."
   ]
  },
  {
   "cell_type": "code",
   "execution_count": 14,
   "metadata": {},
   "outputs": [
    {
     "data": {
      "text/plain": [
       "tensor([[ 0,  1,  2,  3,  4,  5],\n",
       "        [ 6,  7,  8,  9, 10, 11],\n",
       "        [12, 13, 14, 15, 16, 17],\n",
       "        [18, 19, 20, 21, 22, 23]])"
      ]
     },
     "execution_count": 14,
     "metadata": {},
     "output_type": "execute_result"
    }
   ],
   "source": [
    "tensor = torch.arange(24).reshape(4, 6)\n",
    "tensor"
   ]
  },
  {
   "cell_type": "code",
   "execution_count": 15,
   "metadata": {},
   "outputs": [
    {
     "name": "stdout",
     "output_type": "stream",
     "text": [
      "Single element [1, 3]: tensor(9)\n",
      "First row: tensor([0, 1, 2, 3, 4, 5])\n",
      "First column: tensor([ 0,  6, 12, 18])\n",
      "Last row: tensor([18, 19, 20, 21, 22, 23])\n",
      "Submatrix [1:3, 2:5]:\n",
      "tensor([[ 8,  9, 10],\n",
      "        [14, 15, 16]])\n"
     ]
    }
   ],
   "source": [
    "# Basic indexing\n",
    "print(\"Single element [1, 3]:\", tensor[1, 3])\n",
    "print(\"First row:\", tensor[0])\n",
    "print(\"First column:\", tensor[:, 0])\n",
    "print(\"Last row:\", tensor[-1])\n",
    "print(\"Submatrix [1:3, 2:5]:\")\n",
    "print(tensor[1:3, 2:5])"
   ]
  },
  {
   "cell_type": "code",
   "execution_count": 16,
   "metadata": {},
   "outputs": [
    {
     "name": "stdout",
     "output_type": "stream",
     "text": [
      "Elements > 10:\n",
      "tensor([[False, False, False, False, False, False],\n",
      "        [False, False, False, False, False,  True],\n",
      "        [ True,  True,  True,  True,  True,  True],\n",
      "        [ True,  True,  True,  True,  True,  True]])\n",
      "tensor([11, 12, 13, 14, 15, 16, 17, 18, 19, 20, 21, 22, 23])\n",
      "Elements at positions (0,1) and (2,4):\n",
      "tensor([ 1, 16])\n"
     ]
    }
   ],
   "source": [
    "# Boolean indexing\n",
    "mask = tensor > 10\n",
    "print(\"Elements > 10:\")\n",
    "print(mask)\n",
    "print(tensor[mask])\n",
    "\n",
    "# Advanced indexing with lists\n",
    "rows = [0, 2]\n",
    "cols = [1, 4]\n",
    "print(\"Elements at positions (0,1) and (2,4):\")\n",
    "print(tensor[rows, cols])"
   ]
  },
  {
   "cell_type": "markdown",
   "metadata": {},
   "source": [
    "### Dimension Operations\n",
    "\n",
    "Dimension operations allow you to reshape, squeeze, unsqueeze, and transpose tensors. These operations are essential for preparing data for neural networks.\n"
   ]
  },
  {
   "cell_type": "code",
   "execution_count": 17,
   "metadata": {},
   "outputs": [
    {
     "data": {
      "text/plain": [
       "tensor([0, 1, 2, 3, 4, 5])"
      ]
     },
     "execution_count": 17,
     "metadata": {},
     "output_type": "execute_result"
    }
   ],
   "source": [
    "x = torch.arange(6)\n",
    "x"
   ]
  },
  {
   "cell_type": "markdown",
   "metadata": {},
   "source": [
    "- `.reshape()` returns a tensor with the new shape, creating a copy if necessary. "
   ]
  },
  {
   "cell_type": "code",
   "execution_count": 18,
   "metadata": {},
   "outputs": [
    {
     "ename": "RuntimeError",
     "evalue": "shape '[2, 4]' is invalid for input of size 6",
     "output_type": "error",
     "traceback": [
      "\u001b[0;31m---------------------------------------------------------------------------\u001b[0m",
      "\u001b[0;31mRuntimeError\u001b[0m                              Traceback (most recent call last)",
      "\u001b[0;32m<ipython-input-18-e9bbb005d673>\u001b[0m in \u001b[0;36m<module>\u001b[0;34m\u001b[0m\n\u001b[0;32m----> 1\u001b[0;31m \u001b[0mx\u001b[0m\u001b[0;34m.\u001b[0m\u001b[0mreshape\u001b[0m\u001b[0;34m(\u001b[0m\u001b[0;36m2\u001b[0m\u001b[0;34m,\u001b[0m \u001b[0;36m4\u001b[0m\u001b[0;34m)\u001b[0m\u001b[0;34m\u001b[0m\u001b[0;34m\u001b[0m\u001b[0m\n\u001b[0m",
      "\u001b[0;31mRuntimeError\u001b[0m: shape '[2, 4]' is invalid for input of size 6"
     ]
    }
   ],
   "source": [
    "#x.reshape(2, 4)"
   ]
  },
  {
   "cell_type": "markdown",
   "metadata": {},
   "source": [
    "- `.view()` returns a view of the original tensor sharing the same data, but requires the tensor to be contiguous in memory."
   ]
  },
  {
   "cell_type": "code",
   "execution_count": 19,
   "metadata": {},
   "outputs": [
    {
     "ename": "RuntimeError",
     "evalue": "shape '[2, 4]' is invalid for input of size 6",
     "output_type": "error",
     "traceback": [
      "\u001b[0;31m---------------------------------------------------------------------------\u001b[0m",
      "\u001b[0;31mRuntimeError\u001b[0m                              Traceback (most recent call last)",
      "\u001b[0;32m<ipython-input-19-f728df781ff3>\u001b[0m in \u001b[0;36m<module>\u001b[0;34m\u001b[0m\n\u001b[0;32m----> 1\u001b[0;31m \u001b[0mx\u001b[0m\u001b[0;34m.\u001b[0m\u001b[0mview\u001b[0m\u001b[0;34m(\u001b[0m\u001b[0;36m2\u001b[0m\u001b[0;34m,\u001b[0m \u001b[0;36m4\u001b[0m\u001b[0;34m)\u001b[0m\u001b[0;34m\u001b[0m\u001b[0;34m\u001b[0m\u001b[0m\n\u001b[0m",
      "\u001b[0;31mRuntimeError\u001b[0m: shape '[2, 4]' is invalid for input of size 6"
     ]
    }
   ],
   "source": [
    "#x.view(2, 4)"
   ]
  },
  {
   "cell_type": "markdown",
   "metadata": {},
   "source": [
    "\n",
    "Squeezing and unsqueezing are essential for matching tensor dimensions in neural networks, especially when handling batch dimensions or preparing tensors for operations that require specific shapes.\n",
    "\n",
    "- `.squeeze()` removes dimensions of size 1 \n",
    "- `.unsqueeze()` adds dimensions of size 1. "
   ]
  },
  {
   "cell_type": "code",
   "execution_count": 20,
   "metadata": {},
   "outputs": [
    {
     "name": "stdout",
     "output_type": "stream",
     "text": [
      "tensor([[[[-0.5092,  0.1990, -0.2475,  0.5761]],\n",
      "\n",
      "         [[ 0.5856, -1.1257, -1.3752, -1.7801]],\n",
      "\n",
      "         [[ 1.0099,  0.2272, -0.2478,  0.3763]]]])\n",
      "Original shape: torch.Size([1, 3, 1, 4])\n",
      "tensor([[-0.5092,  0.1990, -0.2475,  0.5761],\n",
      "        [ 0.5856, -1.1257, -1.3752, -1.7801],\n",
      "        [ 1.0099,  0.2272, -0.2478,  0.3763]])\n",
      "After squeeze: torch.Size([3, 4])\n",
      "tensor([[[-0.5092,  0.1990, -0.2475,  0.5761],\n",
      "         [ 0.5856, -1.1257, -1.3752, -1.7801],\n",
      "         [ 1.0099,  0.2272, -0.2478,  0.3763]]])\n",
      "After unsqueeze(0): torch.Size([1, 3, 4])\n"
     ]
    }
   ],
   "source": [
    "# Squeeze and unsqueeze\n",
    "tensor_with_ones = torch.randn(1, 3, 1, 4)\n",
    "print(tensor_with_ones)\n",
    "print(\"Original shape:\", tensor_with_ones.shape)\n",
    "\n",
    "# Remove dimensions of size 1\n",
    "squeezed = tensor_with_ones.squeeze()\n",
    "print(squeezed)\n",
    "print(\"After squeeze:\", squeezed.shape)\n",
    "\n",
    "# Add dimension of size 1 at position 0\n",
    "unsqueezed = squeezed.unsqueeze(0)\n",
    "print(unsqueezed)\n",
    "print(\"After unsqueeze(0):\", unsqueezed.shape)"
   ]
  },
  {
   "cell_type": "markdown",
   "metadata": {},
   "source": [
    "Transpose and permute operations rearrange tensor dimensions:\n",
    "\n",
    "- `.T` - Reverses all dimensions (for 2D: rows become columns)\n",
    "- `.permute()` - Rearranges dimensions in a specific order you specify\n",
    "- Useful for matrix operations and changing data layout for neural networks"
   ]
  },
  {
   "cell_type": "code",
   "execution_count": 21,
   "metadata": {},
   "outputs": [
    {
     "name": "stdout",
     "output_type": "stream",
     "text": [
      "Original shape: torch.Size([3, 4])\n",
      "Transposed shape: torch.Size([4, 3])\n",
      "3D tensor shape: torch.Size([2, 3, 4])\n",
      "Permuted shape: torch.Size([4, 2, 3])\n"
     ]
    }
   ],
   "source": [
    "# Transpose operations\n",
    "matrix = torch.randn(3, 4)\n",
    "print(\"Original shape:\", matrix.shape)\n",
    "\n",
    "# Transpose (swap dimensions)\n",
    "transposed = matrix.T\n",
    "print(\"Transposed shape:\", transposed.shape)\n",
    "\n",
    "# Permute (rearrange dimensions)\n",
    "tensor_3d = torch.randn(2, 3, 4)\n",
    "permuted = tensor_3d.permute(2, 0, 1)  # (4, 2, 3)\n",
    "print(\"3D tensor shape:\", tensor_3d.shape)\n",
    "print(\"Permuted shape:\", permuted.shape)"
   ]
  },
  {
   "cell_type": "markdown",
   "metadata": {},
   "source": [
    "### Broadcasting"
   ]
  },
  {
   "cell_type": "markdown",
   "metadata": {},
   "source": [
    "### Matrix Operations"
   ]
  },
  {
   "cell_type": "markdown",
   "metadata": {},
   "source": [
    "## Device Management\n",
    "\n",
    "Managing GPU/CPU placement is critical when working with large language models. Understanding device handling ensures efficient memory usage and prevents device mismatch errors."
   ]
  },
  {
   "cell_type": "markdown",
   "metadata": {},
   "source": [
    "Device placement determines whether tensors are stored in CPU or GPU memory. This is crucial for performance and memory management in deep learning."
   ]
  },
  {
   "cell_type": "code",
   "execution_count": 23,
   "metadata": {},
   "outputs": [
    {
     "name": "stdout",
     "output_type": "stream",
     "text": [
      "cpu\n"
     ]
    }
   ],
   "source": [
    "device = torch.device('cuda' if torch.cuda.is_available() else 'cpu')\n",
    "\n",
    "print(device)"
   ]
  },
  {
   "cell_type": "markdown",
   "metadata": {},
   "source": [
    "## Gradient Computation and Autograd\n",
    "\n",
    "PyTorch's automatic differentiation system tracks operations on tensors to compute gradients automatically. This is essential for understanding how LLMs learn and update their parameters during training."
   ]
  },
  {
   "cell_type": "markdown",
   "metadata": {},
   "source": [
    "## Neural Network Training Basics\n",
    "\n",
    "Training a neural network follows a consistent pattern regardless of the specific architecture. This section covers the fundamental training loop that forms the backbone of all deep learning workflows, including training large language models."
   ]
  },
  {
   "cell_type": "markdown",
   "metadata": {},
   "source": [
    "### Basic Training Template\n",
    "\n",
    "The neural network training process consists of several key components that work together in a structured loop. Let's examine each component and then see them in action with a complete example."
   ]
  },
  {
   "cell_type": "code",
   "execution_count": 24,
   "metadata": {},
   "outputs": [],
   "source": [
    "import torch\n",
    "import torch.nn as nn\n",
    "import torch.optim as optim\n",
    "from torch.utils.data import DataLoader, TensorDataset\n",
    "import numpy as np\n",
    "import matplotlib.pyplot as plt\n",
    "\n",
    "# Set random seeds for reproducibility\n",
    "torch.manual_seed(42)\n",
    "np.random.seed(42)"
   ]
  },
  {
   "cell_type": "markdown",
   "metadata": {},
   "source": [
    "### 1. Define a Simple Neural Network\n",
    "\n",
    "First, let's create a simple feedforward neural network for a regression task. This network will learn to map input features to target values."
   ]
  },
  {
   "cell_type": "code",
   "execution_count": 25,
   "metadata": {},
   "outputs": [
    {
     "name": "stdout",
     "output_type": "stream",
     "text": [
      "Model architecture:\n",
      "SimpleNet(\n",
      "  (fc1): Linear(in_features=4, out_features=64, bias=True)\n",
      "  (fc2): Linear(in_features=64, out_features=64, bias=True)\n",
      "  (fc3): Linear(in_features=64, out_features=1, bias=True)\n",
      "  (relu): ReLU()\n",
      ")\n",
      "\n",
      "Total parameters: 4545\n"
     ]
    }
   ],
   "source": [
    "class SimpleNet(nn.Module):\n",
    "    def __init__(self, input_size, hidden_size, output_size):\n",
    "        super(SimpleNet, self).__init__()\n",
    "        self.fc1 = nn.Linear(input_size, hidden_size)\n",
    "        self.fc2 = nn.Linear(hidden_size, hidden_size)\n",
    "        self.fc3 = nn.Linear(hidden_size, output_size)\n",
    "        self.relu = nn.ReLU()\n",
    "        \n",
    "    def forward(self, x):\n",
    "        x = self.relu(self.fc1(x))\n",
    "        x = self.relu(self.fc2(x))\n",
    "        x = self.fc3(x)\n",
    "        return x\n",
    "\n",
    "# Create model instance\n",
    "input_size = 4\n",
    "hidden_size = 64\n",
    "output_size = 1\n",
    "\n",
    "model = SimpleNet(input_size, hidden_size, output_size)\n",
    "print(f\"Model architecture:\\n{model}\")\n",
    "print(f\"\\nTotal parameters: {sum(p.numel() for p in model.parameters())}\")"
   ]
  },
  {
   "cell_type": "markdown",
   "metadata": {},
   "source": [
    "### 2. Generate Dummy Data\n",
    "\n",
    "For this example, we'll create synthetic data with a known relationship between inputs and outputs. This allows us to verify that our training process is working correctly."
   ]
  },
  {
   "cell_type": "code",
   "execution_count": 26,
   "metadata": {},
   "outputs": [
    {
     "name": "stdout",
     "output_type": "stream",
     "text": [
      "Input shape: torch.Size([1000, 4])\n",
      "Target shape: torch.Size([1000, 1])\n",
      "First 5 samples:\n",
      "X: tensor([[ 0.7861, -2.0957,  0.4538, -0.4391],\n",
      "        [ 0.4836,  0.9264,  0.0693,  0.6713],\n",
      "        [-0.9132, -1.6069, -0.5967,  0.7912],\n",
      "        [ 1.1139,  1.4326,  0.3500,  0.6649],\n",
      "        [ 0.9982,  0.9345,  0.0857, -0.5905]])\n",
      "y: tensor([-5.3888,  3.9458, -5.6086,  6.4730,  4.3326])\n"
     ]
    }
   ],
   "source": [
    "# Generate synthetic regression data\n",
    "n_samples = 1000\n",
    "X = torch.randn(n_samples, input_size)\n",
    "\n",
    "# Create a known relationship: y = 2*x1 + 3*x2 - x3 + 0.5*x4 + noise\n",
    "weights = torch.tensor([2.0, 3.0, -1.0, 0.5])\n",
    "y = X @ weights + 0.1 * torch.randn(n_samples)  # Add some noise\n",
    "y = y.unsqueeze(1)  # Add dimension for output\n",
    "\n",
    "print(f\"Input shape: {X.shape}\")\n",
    "print(f\"Target shape: {y.shape}\")\n",
    "print(f\"First 5 samples:\")\n",
    "print(f\"X: {X[:5]}\")\n",
    "print(f\"y: {y[:5].flatten()}\")"
   ]
  },
  {
   "cell_type": "markdown",
   "metadata": {},
   "source": [
    "### 3. Create DataLoader\n",
    "\n",
    "DataLoaders handle batching and shuffling of data, which is essential for efficient training and good convergence."
   ]
  },
  {
   "cell_type": "code",
   "execution_count": 27,
   "metadata": {},
   "outputs": [
    {
     "name": "stdout",
     "output_type": "stream",
     "text": [
      "Training samples: 800\n",
      "Validation samples: 200\n",
      "Number of training batches: 25\n",
      "Number of validation batches: 7\n"
     ]
    }
   ],
   "source": [
    "# Split data into train and validation sets\n",
    "train_size = int(0.8 * n_samples)\n",
    "val_size = n_samples - train_size\n",
    "\n",
    "X_train, X_val = X[:train_size], X[train_size:]\n",
    "y_train, y_val = y[:train_size], y[train_size:]\n",
    "\n",
    "# Create datasets and dataloaders\n",
    "train_dataset = TensorDataset(X_train, y_train)\n",
    "val_dataset = TensorDataset(X_val, y_val)\n",
    "\n",
    "batch_size = 32\n",
    "train_loader = DataLoader(train_dataset, batch_size=batch_size, shuffle=True)\n",
    "val_loader = DataLoader(val_dataset, batch_size=batch_size, shuffle=False)\n",
    "\n",
    "print(f\"Training samples: {len(train_dataset)}\")\n",
    "print(f\"Validation samples: {len(val_dataset)}\")\n",
    "print(f\"Number of training batches: {len(train_loader)}\")\n",
    "print(f\"Number of validation batches: {len(val_loader)}\")"
   ]
  },
  {
   "cell_type": "markdown",
   "metadata": {},
   "source": [
    "### 4. Set Up Loss Function and Optimizer\n",
    "\n",
    "The loss function measures how far our predictions are from the target values. The optimizer updates model parameters based on the computed gradients."
   ]
  },
  {
   "cell_type": "code",
   "execution_count": 28,
   "metadata": {},
   "outputs": [
    {
     "name": "stdout",
     "output_type": "stream",
     "text": [
      "Loss function: MSELoss()\n",
      "Optimizer: Adam (\n",
      "Parameter Group 0\n",
      "    amsgrad: False\n",
      "    betas: (0.9, 0.999)\n",
      "    capturable: False\n",
      "    differentiable: False\n",
      "    eps: 1e-08\n",
      "    foreach: None\n",
      "    fused: False\n",
      "    lr: 0.001\n",
      "    maximize: False\n",
      "    weight_decay: 0\n",
      ")\n",
      "Learning rate: 0.001\n"
     ]
    }
   ],
   "source": [
    "# Loss function for regression\n",
    "criterion = nn.MSELoss()\n",
    "\n",
    "# Optimizer - Adam is a good default choice\n",
    "optimizer = optim.Adam(model.parameters(), lr=0.001)\n",
    "\n",
    "print(f\"Loss function: {criterion}\")\n",
    "print(f\"Optimizer: {optimizer}\")\n",
    "print(f\"Learning rate: {optimizer.param_groups[0]['lr']}\")"
   ]
  },
  {
   "cell_type": "markdown",
   "metadata": {},
   "source": [
    "### 5. The Training Loop\n",
    "\n",
    "This is the core of neural network training. The basic template follows these steps for each epoch:\n",
    "\n",
    "1. **Training phase**: Process batches, compute gradients, update parameters\n",
    "2. **Validation phase**: Evaluate model performance without updating parameters\n",
    "3. **Track metrics**: Monitor loss and other metrics to assess training progress"
   ]
  },
  {
   "cell_type": "code",
   "execution_count": 29,
   "metadata": {},
   "outputs": [
    {
     "name": "stdout",
     "output_type": "stream",
     "text": [
      "Training and validation functions defined\n"
     ]
    }
   ],
   "source": [
    "def train_epoch(model, train_loader, criterion, optimizer):\n",
    "    \"\"\"Train the model for one epoch\"\"\"\n",
    "    model.train()  # Set model to training mode\n",
    "    total_loss = 0\n",
    "    num_batches = 0\n",
    "    \n",
    "    for batch_idx, (data, target) in enumerate(train_loader):\n",
    "        # Clear gradients from previous iteration\n",
    "        optimizer.zero_grad()\n",
    "        \n",
    "        # Forward pass\n",
    "        output = model(data)\n",
    "        \n",
    "        # Compute loss\n",
    "        loss = criterion(output, target)\n",
    "        \n",
    "        # Backward pass - compute gradients\n",
    "        loss.backward()\n",
    "        \n",
    "        # Update parameters\n",
    "        optimizer.step()\n",
    "        \n",
    "        # Track metrics\n",
    "        total_loss += loss.item()\n",
    "        num_batches += 1\n",
    "    \n",
    "    return total_loss / num_batches\n",
    "\n",
    "def validate_epoch(model, val_loader, criterion):\n",
    "    \"\"\"Validate the model for one epoch\"\"\"\n",
    "    model.eval()  # Set model to evaluation mode\n",
    "    total_loss = 0\n",
    "    num_batches = 0\n",
    "    \n",
    "    with torch.no_grad():  # Disable gradient computation for efficiency\n",
    "        for data, target in val_loader:\n",
    "            # Forward pass only\n",
    "            output = model(data)\n",
    "            loss = criterion(output, target)\n",
    "            \n",
    "            # Track metrics\n",
    "            total_loss += loss.item()\n",
    "            num_batches += 1\n",
    "    \n",
    "    return total_loss / num_batches\n",
    "\n",
    "print(\"Training and validation functions defined\")"
   ]
  },
  {
   "cell_type": "markdown",
   "metadata": {},
   "source": [
    "### 6. Run the Complete Training Loop"
   ]
  },
  {
   "cell_type": "code",
   "execution_count": 30,
   "metadata": {},
   "outputs": [
    {
     "name": "stdout",
     "output_type": "stream",
     "text": [
      "Starting training...\n",
      "Epochs: 100\n",
      "Batch size: 32\n",
      "Learning rate: 0.001\n",
      "--------------------------------------------------\n",
      "Epoch [10/100] - Train Loss: 0.040728, Val Loss: 0.033150\n",
      "Epoch [20/100] - Train Loss: 0.020628, Val Loss: 0.023212\n",
      "Epoch [30/100] - Train Loss: 0.015698, Val Loss: 0.018270\n",
      "Epoch [40/100] - Train Loss: 0.014767, Val Loss: 0.017183\n",
      "Epoch [50/100] - Train Loss: 0.012873, Val Loss: 0.016725\n",
      "Epoch [60/100] - Train Loss: 0.012166, Val Loss: 0.016114\n",
      "Epoch [70/100] - Train Loss: 0.011709, Val Loss: 0.016437\n",
      "Epoch [80/100] - Train Loss: 0.012212, Val Loss: 0.015567\n",
      "Epoch [90/100] - Train Loss: 0.010846, Val Loss: 0.015752\n",
      "Epoch [100/100] - Train Loss: 0.010901, Val Loss: 0.016775\n",
      "--------------------------------------------------\n",
      "Training completed!\n",
      "Final train loss: 0.010901\n",
      "Final validation loss: 0.016775\n"
     ]
    }
   ],
   "source": [
    "# Training configuration\n",
    "num_epochs = 100\n",
    "train_losses = []\n",
    "val_losses = []\n",
    "\n",
    "print(\"Starting training...\")\n",
    "print(f\"Epochs: {num_epochs}\")\n",
    "print(f\"Batch size: {batch_size}\")\n",
    "print(f\"Learning rate: {optimizer.param_groups[0]['lr']}\")\n",
    "print(\"-\" * 50)\n",
    "\n",
    "# Main training loop\n",
    "for epoch in range(num_epochs):\n",
    "    # Train for one epoch\n",
    "    train_loss = train_epoch(model, train_loader, criterion, optimizer)\n",
    "    \n",
    "    # Validate for one epoch\n",
    "    val_loss = validate_epoch(model, val_loader, criterion)\n",
    "    \n",
    "    # Store losses for plotting\n",
    "    train_losses.append(train_loss)\n",
    "    val_losses.append(val_loss)\n",
    "    \n",
    "    # Print progress every 10 epochs\n",
    "    if (epoch + 1) % 10 == 0:\n",
    "        print(f\"Epoch [{epoch+1}/{num_epochs}] - \"\n",
    "              f\"Train Loss: {train_loss:.6f}, \"\n",
    "              f\"Val Loss: {val_loss:.6f}\")\n",
    "\n",
    "print(\"-\" * 50)\n",
    "print(\"Training completed!\")\n",
    "print(f\"Final train loss: {train_losses[-1]:.6f}\")\n",
    "print(f\"Final validation loss: {val_losses[-1]:.6f}\")"
   ]
  },
  {
   "cell_type": "markdown",
   "metadata": {},
   "source": [
    "### 7. Visualize Training Progress"
   ]
  },
  {
   "cell_type": "code",
   "execution_count": 31,
   "metadata": {},
   "outputs": [
    {
     "data": {
      "image/png": "[encoded data removed]",
      "text/plain": [
       "<Figure size 864x288 with 2 Axes>"
      ]
     },
     "metadata": {
      "needs_background": "light"
     },
     "output_type": "display_data"
    }
   ],
   "source": [
    "# Plot training curves\n",
    "plt.figure(figsize=(12, 4))\n",
    "\n",
    "plt.subplot(1, 2, 1)\n",
    "plt.plot(train_losses, label='Training Loss', color='blue')\n",
    "plt.plot(val_losses, label='Validation Loss', color='red')\n",
    "plt.xlabel('Epoch')\n",
    "plt.ylabel('Loss')\n",
    "plt.title('Training and Validation Loss')\n",
    "plt.legend()\n",
    "plt.grid(True)\n",
    "\n",
    "plt.subplot(1, 2, 2)\n",
    "plt.plot(train_losses[-50:], label='Training Loss (Last 50 epochs)', color='blue')\n",
    "plt.plot(val_losses[-50:], label='Validation Loss (Last 50 epochs)', color='red')\n",
    "plt.xlabel('Epoch')\n",
    "plt.ylabel('Loss')\n",
    "plt.title('Loss (Last 50 Epochs)')\n",
    "plt.legend()\n",
    "plt.grid(True)\n",
    "\n",
    "plt.tight_layout()\n",
    "plt.show()"
   ]
  },
  {
   "cell_type": "markdown",
   "metadata": {},
   "source": [
    "### 8. Test the Trained Model"
   ]
  },
  {
   "cell_type": "code",
   "execution_count": 32,
   "metadata": {},
   "outputs": [
    {
     "name": "stdout",
     "output_type": "stream",
     "text": [
      "Model Performance on Test Samples:\n",
      "--------------------------------------------------\n",
      "True weights used to generate data: [2.0, 3.0, -1.0, 0.5]\n",
      "--------------------------------------------------\n",
      "Sample 1: Predicted=2.2870, True=2.3892, Error=0.1022\n",
      "Sample 2: Predicted=0.3818, True=0.4525, Error=0.0707\n",
      "Sample 3: Predicted=1.5059, True=1.4416, Error=0.0643\n",
      "Sample 4: Predicted=1.6262, True=1.7048, Error=0.0787\n",
      "Sample 5: Predicted=3.5084, True=3.5694, Error=0.0609\n",
      "Sample 6: Predicted=-1.5973, True=-1.7370, Error=0.1397\n",
      "Sample 7: Predicted=-2.3752, True=-2.4108, Error=0.0356\n",
      "Sample 8: Predicted=-0.9677, True=-0.9359, Error=0.0318\n",
      "Sample 9: Predicted=-0.8716, True=-0.7391, Error=0.1325\n",
      "Sample 10: Predicted=-1.7833, True=-1.7157, Error=0.0676\n",
      "\n",
      "Mean Absolute Error: 0.0784\n",
      "\n",
      "Learned vs True Relationship:\n",
      "------------------------------\n",
      "The model has learned to approximate the relationship:\n",
      "y = 2*x1 + 3*x2 - x3 + 0.5*x4 + noise\n",
      "This demonstrates successful learning of the underlying pattern!\n"
     ]
    }
   ],
   "source": [
    "# Test the model on some validation samples\n",
    "model.eval()\n",
    "with torch.no_grad():\n",
    "    # Get a few validation samples\n",
    "    test_inputs = X_val[:10]\n",
    "    test_targets = y_val[:10]\n",
    "    \n",
    "    # Make predictions\n",
    "    predictions = model(test_inputs)\n",
    "    \n",
    "    print(\"Model Performance on Test Samples:\")\n",
    "    print(\"-\" * 50)\n",
    "    print(\"True weights used to generate data: [2.0, 3.0, -1.0, 0.5]\")\n",
    "    print(\"-\" * 50)\n",
    "    \n",
    "    for i in range(10):\n",
    "        pred = predictions[i].item()\n",
    "        true = test_targets[i].item()\n",
    "        error = abs(pred - true)\n",
    "        print(f\"Sample {i+1}: Predicted={pred:.4f}, True={true:.4f}, Error={error:.4f}\")\n",
    "    \n",
    "    # Calculate mean absolute error\n",
    "    mae = torch.mean(torch.abs(predictions - test_targets)).item()\n",
    "    print(f\"\\nMean Absolute Error: {mae:.4f}\")\n",
    "\n",
    "# Compare learned weights with true weights (approximately)\n",
    "print(\"\\nLearned vs True Relationship:\")\n",
    "print(\"-\" * 30)\n",
    "print(\"The model has learned to approximate the relationship:\")\n",
    "print(\"y = 2*x1 + 3*x2 - x3 + 0.5*x4 + noise\")\n",
    "print(\"This demonstrates successful learning of the underlying pattern!\")"
   ]
  },
  {
   "cell_type": "markdown",
   "metadata": {},
   "source": [
    "### Key Training Loop Components Summary\n",
    "\n",
    "The neural network training template follows this essential pattern:\n",
    "\n",
    "```python\n",
    "# 1. Setup\n",
    "model = YourModel()\n",
    "criterion = nn.MSELoss()  # or nn.CrossEntropyLoss() for classification\n",
    "optimizer = optim.Adam(model.parameters(), lr=0.001)\n",
    "\n",
    "# 2. Training Loop\n",
    "for epoch in range(num_epochs):\n",
    "    # Training Phase\n",
    "    model.train()\n",
    "    for batch in train_loader:\n",
    "        optimizer.zero_grad()      # Clear gradients\n",
    "        outputs = model(batch)     # Forward pass\n",
    "        loss = criterion(outputs, targets)  # Compute loss\n",
    "        loss.backward()            # Backward pass (compute gradients)\n",
    "        optimizer.step()           # Update parameters\n",
    "    \n",
    "    # Validation Phase\n",
    "    model.eval()\n",
    "    with torch.no_grad():\n",
    "        for batch in val_loader:\n",
    "            outputs = model(batch)\n",
    "            val_loss = criterion(outputs, targets)\n",
    "```\n",
    "\n",
    "This template applies universally whether you're training simple feedforward networks, CNNs, RNNs, Transformers, or large language models. The core loop remains the same - only the model architecture and data preprocessing change."
   ]
  },
  {
   "cell_type": "markdown",
   "metadata": {},
   "source": [
    "## nn.Module\n",
    "\n",
    "The base class for all neural network components in PyTorch. Understanding nn.Module is crucial since all transformer layers, attention mechanisms, and LLM architectures inherit from this class."
   ]
  },
  {
   "cell_type": "markdown",
   "metadata": {
    "vscode": {
     "languageId": "plaintext"
    }
   },
   "source": [
    "## nn.Embedding\n",
    "\n",
    "Embedding layers convert discrete tokens into dense vector representations. These are fundamental to all language models and determine how words, subwords, or characters are represented numerically."
   ]
  },
  {
   "cell_type": "markdown",
   "metadata": {},
   "source": [
    "## Masking\n",
    "\n",
    "Masking handles variable-length sequences and prevents attention to padding tokens. This is essential for efficient batch processing of text sequences in transformers and language models."
   ]
  },
  {
   "cell_type": "markdown",
   "metadata": {},
   "source": [
    "## Loss Functions\n",
    "\n",
    "Loss functions measure how far model predictions are from target values. CrossEntropyLoss is the standard choice for language modeling tasks, making it essential for training and fine-tuning LLMs."
   ]
  },
  {
   "cell_type": "markdown",
   "metadata": {},
   "source": [
    "## Optimizers and Learning Rate Scheduling\n",
    "\n",
    "Optimizers update model parameters based on computed gradients. Understanding Adam, learning rate schedules, and warmup strategies is crucial for effective LLM training and fine-tuning."
   ]
  },
  {
   "cell_type": "markdown",
   "metadata": {},
   "source": [
    "## Data Loading for Text\n",
    "\n",
    "DataLoaders handle batching of variable-length text sequences efficiently. Understanding collate functions and padding strategies is essential for working with text data in production LLM workflows."
   ]
  },
  {
   "cell_type": "markdown",
   "metadata": {},
   "source": [
    "## Model Saving and Loading\n",
    "\n",
    "Saving and loading model checkpoints is crucial for LLM workflows due to long training times and large model sizes. Understanding state_dict and checkpoint management prevents data loss and enables model deployment."
   ]
  }
 ],
 "metadata": {
  "kernelspec": {
   "display_name": "Python 3",
   "language": "python",
   "name": "python3"
  },
  "language_info": {
   "codemirror_mode": {
    "name": "ipython",
    "version": 3
   },
   "file_extension": ".py",
   "mimetype": "text/x-python",
   "name": "python",
   "nbconvert_exporter": "python",
   "pygments_lexer": "ipython3",
   "version": "3.7.2"
  }
 },
 "nbformat": 4,
 "nbformat_minor": 2
}
