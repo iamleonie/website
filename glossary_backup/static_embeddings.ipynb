{
 "cells": [
  {
   "cell_type": "markdown",
   "id": "e20ed84c",
   "metadata": {},
   "source": [
    "---\n",
    "title: \"Static embeddings\"\n",
    "description: \"Post description\"\n",
    "date: \"2025-02-09\"\n",
    "date-modified: \"2025-02-22\"\n",
    "bread-crumbs: true\n",
    "back-to-top-navigation: true\n",
    "toc: true\n",
    "toc-depth: 3\n",
    "---"
   ]
  },
  {
   "cell_type": "markdown",
   "id": "9124aa44",
   "metadata": {},
   "source": [
    "## What is a static embedding?"
   ]
  },
  {
   "cell_type": "markdown",
   "id": "15dddafe",
   "metadata": {},
   "source": [
    "## Static embeddings vs dynamic embeddings\n",
    "The opposite of static embeddings are dynmic embeddings or contextualized embeddings. In contrast to static embeddings, contextualized embeddings product different vector representations for the same word based on its specific context within a document.\n",
    "\n",
    "| Characteristics  | Static embeddings | Contextualized embeddings |\n",
    "|---|---|---|\n",
    "| Word representation | Fixed single vector | Dynamic, context-dependent vector |\n",
    "| Computational complexity | Low | High |\n",
    "| Contextual understanding | No | Yes |\n",
    "| Examples | [Word2Vec](word2vec.ipynb), [GloVe](glove.ipynb), Model2Vec | BERT |"
   ]
  }
 ],
 "metadata": {
  "kernelspec": {
   "display_name": "Python 3",
   "language": "python",
   "name": "python3"
  },
  "language_info": {
   "codemirror_mode": {
    "name": "ipython",
    "version": 3
   },
   "file_extension": ".py",
   "mimetype": "text/x-python",
   "name": "python",
   "nbconvert_exporter": "python",
   "pygments_lexer": "ipython3",
   "version": "3.7.2"
  }
 },
 "nbformat": 4,
 "nbformat_minor": 5
}
